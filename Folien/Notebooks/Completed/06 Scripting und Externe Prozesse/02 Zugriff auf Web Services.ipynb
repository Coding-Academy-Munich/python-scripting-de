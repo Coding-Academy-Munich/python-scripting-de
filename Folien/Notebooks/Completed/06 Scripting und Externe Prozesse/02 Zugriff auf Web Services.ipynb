{
 "cells": [
  {
   "cell_type": "markdown",
   "id": "0f179685d76c63e4",
   "metadata": {
    "lang": "de",
    "slideshow": {
     "slide_type": "slide"
    },
    "tags": [
     "slide"
    ]
   },
   "source": [
    "\n",
    "<img src=\"data:image/svg+xml;base64,PHN2ZyB4bWxucz0iaHR0cDovL3d3dy53My5vcmcvMjAwMC9zdmciIHhtbG5zOnhsaW5rPSJodHRw\n",
    "Oi8vd3d3LnczLm9yZy8xOTk5L3hsaW5rIiB3aWR0aD0iMTExLjE2MSIgaGVpZ2h0PSIxMzQuNjY4\n",
    "IiB2ZXJzaW9uPSIxLjAiPjxkZWZzPjxsaW5lYXJHcmFkaWVudCBpZD0iYyI+PHN0b3Agb2Zmc2V0\n",
    "PSIwIiBzdHlsZT0ic3RvcC1jb2xvcjojYjhiOGI4O3N0b3Atb3BhY2l0eTouNDk4MDM5MjIiLz48\n",
    "c3RvcCBvZmZzZXQ9IjEiIHN0eWxlPSJzdG9wLWNvbG9yOiM3ZjdmN2Y7c3RvcC1vcGFjaXR5OjAi\n",
    "Lz48L2xpbmVhckdyYWRpZW50PjxsaW5lYXJHcmFkaWVudCBpZD0iYSI+PHN0b3Agb2Zmc2V0PSIw\n",
    "IiBzdHlsZT0ic3RvcC1jb2xvcjojZmZkNDNiO3N0b3Atb3BhY2l0eToxIi8+PHN0b3Agb2Zmc2V0\n",
    "PSIxIiBzdHlsZT0ic3RvcC1jb2xvcjojZmZlODczO3N0b3Atb3BhY2l0eToxIi8+PC9saW5lYXJH\n",
    "cmFkaWVudD48bGluZWFyR3JhZGllbnQgaWQ9ImIiPjxzdG9wIG9mZnNldD0iMCIgc3R5bGU9InN0\n",
    "b3AtY29sb3I6IzVhOWZkNDtzdG9wLW9wYWNpdHk6MSIvPjxzdG9wIG9mZnNldD0iMSIgc3R5bGU9\n",
    "InN0b3AtY29sb3I6IzMwNjk5ODtzdG9wLW9wYWNpdHk6MSIvPjwvbGluZWFyR3JhZGllbnQ+PGxp\n",
    "bmVhckdyYWRpZW50IHhsaW5rOmhyZWY9IiNhIiBpZD0iZSIgeDE9IjE1MC45NjEiIHgyPSIxMTIu\n",
    "MDMxIiB5MT0iMTkyLjM1MiIgeTI9IjEzNy4yNzMiIGdyYWRpZW50VHJhbnNmb3JtPSJtYXRyaXgo\n",
    "LjU2MjU0IDAgMCAuNTY3OTcgLTE0Ljk5MSAtMTEuNzAyKSIgZ3JhZGllbnRVbml0cz0idXNlclNw\n",
    "YWNlT25Vc2UiLz48bGluZWFyR3JhZGllbnQgeGxpbms6aHJlZj0iI2IiIGlkPSJkIiB4MT0iMjYu\n",
    "NjQ5IiB4Mj0iMTM1LjY2NSIgeTE9IjIwLjYwNCIgeTI9IjExNC4zOTgiIGdyYWRpZW50VHJhbnNm\n",
    "b3JtPSJtYXRyaXgoLjU2MjU0IDAgMCAuNTY3OTcgLTE0Ljk5MSAtMTEuNzAyKSIgZ3JhZGllbnRV\n",
    "bml0cz0idXNlclNwYWNlT25Vc2UiLz48cmFkaWFsR3JhZGllbnQgeGxpbms6aHJlZj0iI2MiIGlk\n",
    "PSJmIiBjeD0iNjEuNTE5IiBjeT0iMTMyLjI4NiIgcj0iMjkuMDM3IiBmeD0iNjEuNTE5IiBmeT0i\n",
    "MTMyLjI4NiIgZ3JhZGllbnRUcmFuc2Zvcm09Im1hdHJpeCgwIC0uMjM5OTUgMS4wNTQ2NyAwIC04\n",
    "My43IDE0Mi40NjIpIiBncmFkaWVudFVuaXRzPSJ1c2VyU3BhY2VPblVzZSIvPjwvZGVmcz48cGF0\n",
    "aCBkPSJNNTQuOTE5IDBjLTQuNTg0LjAyMi04Ljk2MS40MTMtMTIuODEzIDEuMDk1QzMwLjc2IDMu\n",
    "MDk5IDI4LjcgNy4yOTUgMjguNyAxNS4wMzJ2MTAuMjE5aDI2LjgxM3YzLjQwNkgxOC42MzhjLTcu\n",
    "NzkzIDAtMTQuNjE2IDQuNjg0LTE2Ljc1IDEzLjU5NC0yLjQ2MiAxMC4yMTMtMi41NzEgMTYuNTg2\n",
    "IDAgMjcuMjUgMS45MDUgNy45MzggNi40NTcgMTMuNTk0IDE0LjI1IDEzLjU5NGg5LjIxOHYtMTIu\n",
    "MjVjMC04Ljg1IDcuNjU3LTE2LjY1NyAxNi43NS0xNi42NTdoMjYuNzgyYzcuNDU0IDAgMTMuNDA2\n",
    "LTYuMTM4IDEzLjQwNi0xMy42MjV2LTI1LjUzYzAtNy4yNjctNi4xMy0xMi43MjYtMTMuNDA2LTEz\n",
    "LjkzOEM2NC4yODIuMzI4IDU5LjUwMi0uMDIgNTQuOTE4IDBtLTE0LjUgOC4yMmMyLjc3IDAgNS4w\n",
    "MzEgMi4yOTggNS4wMzEgNS4xMjUgMCAyLjgxNi0yLjI2MiA1LjA5My01LjAzMSA1LjA5My0yLjc4\n",
    "IDAtNS4wMzEtMi4yNzctNS4wMzEtNS4wOTMgMC0yLjgyNyAyLjI1MS01LjEyNSA1LjAzLTUuMTI1\n",
    "IiBzdHlsZT0iZmlsbDp1cmwoI2QpO2ZpbGwtb3BhY2l0eToxIi8+PHBhdGggZD0iTTg1LjYzOCAy\n",
    "OC42NTd2MTEuOTA2YzAgOS4yMzEtNy44MjYgMTctMTYuNzUgMTdINDIuMTA2Yy03LjMzNiAwLTEz\n",
    "LjQwNiA2LjI3OS0xMy40MDYgMTMuNjI1Vjk2LjcyYzAgNy4yNjYgNi4zMTkgMTEuNTQgMTMuNDA2\n",
    "IDEzLjYyNSA4LjQ4OCAyLjQ5NSAxNi42MjcgMi45NDYgMjYuNzgyIDAgNi43NS0xLjk1NSAxMy40\n",
    "MDYtNS44ODggMTMuNDA2LTEzLjYyNVY4Ni41SDU1LjUxM3YtMy40MDVIOTUuN2M3Ljc5MyAwIDEw\n",
    "LjY5Ni01LjQzNiAxMy40MDYtMTMuNTk0IDIuOC04LjM5OSAyLjY4LTE2LjQ3NiAwLTI3LjI1LTEu\n",
    "OTI1LTcuNzU4LTUuNjA0LTEzLjU5NC0xMy40MDYtMTMuNTk0ek03MC41NzUgOTMuMzEzYzIuNzgg\n",
    "MCA1LjAzMSAyLjI3OCA1LjAzMSA1LjA5NCAwIDIuODI3LTIuMjUxIDUuMTI1LTUuMDMxIDUuMTI1\n",
    "LTIuNzcgMC01LjAzMS0yLjI5OC01LjAzMS01LjEyNSAwLTIuODE2IDIuMjYxLTUuMDk0IDUuMDMx\n",
    "LTUuMDk0IiBzdHlsZT0iZmlsbDp1cmwoI2UpO2ZpbGwtb3BhY2l0eToxIi8+PGVsbGlwc2UgY3g9\n",
    "IjU1LjgxNyIgY3k9IjEyNy43MDEiIHJ4PSIzNS45MzEiIHJ5PSI2Ljk2NyIgc3R5bGU9Im9wYWNp\n",
    "dHk6LjQ0MzgyO2ZpbGw6dXJsKCNmKTtmaWxsLW9wYWNpdHk6MTtmaWxsLXJ1bGU6bm9uemVybztz\n",
    "dHJva2U6bm9uZTtzdHJva2Utd2lkdGg6MTUuNDE3NDtzdHJva2UtbWl0ZXJsaW1pdDo0O3N0cm9r\n",
    "ZS1kYXNoYXJyYXk6bm9uZTtzdHJva2Utb3BhY2l0eToxIi8+PC9zdmc+\n",
    "\"\n",
    "     style=\"display:block;margin:auto;width:10%\" alt=\"Python Logo\"/>\n",
    "<br>\n",
    "\n",
    "<div style=\"text-align:center; font-size:200%;\">\n",
    " <b>Zugriff auf Web Services</b>\n",
    "</div>\n",
    "<br/>\n",
    "<div style=\"text-align:center;\">Dr. Matthias Hölzl</div>\n",
    "<br/>"
   ]
  },
  {
   "cell_type": "markdown",
   "id": "dee3598a5358157e",
   "metadata": {
    "lang": "de",
    "lines_to_next_cell": 2,
    "slideshow": {
     "slide_type": "subslide"
    },
    "tags": [
     "subslide"
    ]
   },
   "source": [
    "\n",
    "## HTTP Requests and Responses\n",
    "\n",
    "- HTTP (Hypertext Transfer Protocol) ist die Grundlage der Datenkommunikation\n",
    "  für das World Wide Web\n",
    "- HTTP-Anfragen und -Antworten sind Nachrichten, die von Clients (z.B.\n",
    "  Webbrowsern) und Servern gesendet werden\n",
    "- HTTP-Anfragen bestehen aus einer Methode, Kopfzeilen und (manchmal) einem\n",
    "  Body\n",
    "- HTTP-Antworten bestehen aus einem Statuscode, Headern und (normalerweise)\n",
    "  einem Body"
   ]
  },
  {
   "cell_type": "markdown",
   "id": "e437b1e869c4076e",
   "metadata": {
    "lang": "de",
    "slideshow": {
     "slide_type": "subslide"
    },
    "tags": [
     "subslide"
    ]
   },
   "source": [
    "\n",
    "### Häufig vorkommende Response Codes\n",
    "\n",
    "- `200 OK:` Der Server hat die Anfrage erfolgreich bearbeitet und gibt die\n",
    "  angeforderten Daten oder Ressource zurück\n",
    "- `201 Erstellt:` Die Anfrage wurde erfüllt und eine neue Ressource wurde\n",
    "  erstellt\n",
    "- `204 No Content:` Der Server hat die Anfrage erfolgreich bearbeitet, gibt\n",
    "  aber keine keinen Inhalt zurück."
   ]
  },
  {
   "cell_type": "markdown",
   "id": "6a4825f88a3bd683",
   "metadata": {
    "lang": "de",
    "slideshow": {
     "slide_type": "subslide"
    },
    "tags": [
     "subslide"
    ]
   },
   "source": [
    "\n",
    "- `301 Moved Permanently:` Die angeforderte Ressource wurde dauerhaft an einen\n",
    "  neuen Ort verschoben. Der Client sollte seine Lesezeichen und Verweise\n",
    "  ändern. Suchmaschinen sollen ihren Index aktualisieren\n",
    "- `302 Found` und `303 See Other:` Temporäre Umleitung. Die angeforderte\n",
    "  Ressource kann unter einer anderen URL gefunden werden, aber die Umleitung\n",
    "  ist temporär und bei zukünftigen Anfragen soll weiterhin die ursprüngliche\n",
    "  URL verwendet werden\n",
    "- \"307 Temporäre Umleitung\": Temporäre Umleitung. Der Client soll weiterhin\n",
    "  die ursprüngliche HTTP-Methode verwenden (z.B. `GET` oder `POST`)"
   ]
  },
  {
   "cell_type": "markdown",
   "id": "d3e21b6c745ab51e",
   "metadata": {
    "lang": "de",
    "lines_to_next_cell": 2,
    "slideshow": {
     "slide_type": "subslide"
    },
    "tags": [
     "subslide"
    ]
   },
   "source": [
    "\n",
    "- `400 Bad Request:` Der Server kann oder will die Anfrage wegen eines\n",
    "  offensichtlichen Client-Fehlers nicht bearbeiten, z.B.\n",
    "  - fehlerhafte Syntax\n",
    "  - ungültiges Request-Message-Framing\n",
    "  - irreführendes Anfrage-Routing\n",
    "- `401 Unauthorized:` Der Client muss sich authentifizieren, um die\n",
    "  angeforderte Antwort zu erhalten\n",
    "- `403 Forbidden:` Der Server weigert sich, die Anfrage zu erfüllen, weil der\n",
    "  Client keinen Zugriff auf die angeforderte Ressource hat\n",
    "- `404 Not Found:` Der Server kann die angeforderte Ressource nicht finden\n",
    "- `500 Internal Server Error:` Der Server kann die Anfrage wegen eines\n",
    "  internen Problems nicht erfüllen."
   ]
  },
  {
   "cell_type": "markdown",
   "id": "8d5a94e6294fda5f",
   "metadata": {
    "lang": "de",
    "slideshow": {
     "slide_type": "subslide"
    },
    "tags": [
     "subslide"
    ]
   },
   "source": [
    "\n",
    "## Einführung in Web-Services\n",
    "\n",
    "- Web Services sind Softwaresysteme, die die interoperable\n",
    "  Maschine-zu-Maschine-Interaktion über ein Netzwerk unterstützen\n",
    "- Web-Services werden oft zum Austausch von Daten zwischen verschiedenen\n",
    "  Anwendungen und Systemen verwendet\n",
    "- Web-Services können verschiedene APIs unterstützen\n",
    "  - SOAP\n",
    "  - RESTful\n",
    "  - GraphQL"
   ]
  },
  {
   "cell_type": "markdown",
   "id": "ce1ebe1682696935",
   "metadata": {
    "lang": "de",
    "slideshow": {
     "slide_type": "subslide"
    },
    "tags": [
     "subslide"
    ]
   },
   "source": [
    "\n",
    "## APIs for Web Services\n",
    "\n",
    "- Eine API (Application Programming Interface) ist eine Reihe von Regeln, die\n",
    "es einer Softwareanwendung mit einer anderen zu interagieren.\n",
    "- Webservices sind eine Art von API, die Webprotokolle zur Kommunikation\n",
    "  nutzen.\n",
    "- Zu den verschiedenen Arten von APIs gehören SOAP, RESTful und GraphQL\n",
    "- RESTful APIs nutzen HTTP zum Datenaustausch und sind aufgrund ihrer\n",
    "  Einfachheit und Skalierbarkeit die beliebteste Variante\n",
    "- GraphQL APIs ermöglichen eine effizientere Datenabfrage, indem sie es den\n",
    "  Clients erlauben die Struktur der Daten, die sie benötigen, angeben\n",
    "- SOAP ist ein Protokoll für den Austausch von strukturierten Daten zwischen\n",
    "  Web Services"
   ]
  },
  {
   "cell_type": "markdown",
   "id": "60d0086b2ab8d39c",
   "metadata": {
    "lang": "de",
    "slideshow": {
     "slide_type": "subslide"
    },
    "tags": [
     "subslide"
    ]
   },
   "source": [
    "\n",
    "# RESTful APIs\n",
    "\n",
    "## Was ist eine RESTful API?\n",
    "\n",
    "- REST steht für \"Representational State Transfer\" und bezieht sich auf ein\n",
    "  Design Muster für den Aufbau von Webdiensten.\n",
    "- RESTful APIs werden mit dem HTTP-Protokoll erstellt und folgen einer Reihe\n",
    "  von Architekturprinzipien, darunter Zustandslosigkeit, Cachefähigkeit und\n",
    "  eine geschichtete Systemarchitektur"
   ]
  },
  {
   "cell_type": "markdown",
   "id": "636e1bd0b566d00f",
   "metadata": {
    "lang": "de",
    "slideshow": {
     "slide_type": "subslide"
    },
    "tags": [
     "subslide"
    ]
   },
   "source": [
    "\n",
    "## Aufbau einer RESTful API\n",
    "\n",
    "- RESTful APIs sind um Ressourcen herum aufgebaut, die durch einen URI\n",
    "  identifiziert werden (Uniform Resource Identifier)\n",
    "- Ressourcen werden mit einer Reihe von vordefinierten Operationen oder HTTP\n",
    "  Methoden, wie `GET`, `POST`, `PUT`, `DELETE` abgerufen, erstellt,\n",
    "  modifiziert und gelöscht"
   ]
  },
  {
   "cell_type": "markdown",
   "id": "382bed86178f32d6",
   "metadata": {
    "lang": "de",
    "slideshow": {
     "slide_type": "subslide"
    },
    "tags": [
     "subslide"
    ]
   },
   "source": [
    "\n",
    "## CRUD-Operationen und HTTP-Methoden\n",
    "\n",
    "- CRUD steht für \"Create, Read, Update, Delete\" und bezieht sich auf die\n",
    "  Grundoperationen, die mit einer Ressource durchgeführt werden können\n",
    "- Jede CRUD-Operation entspricht einer bestimmten HTTP-Methode, zum Beispiel:\n",
    "- `GET` für das Lesen einer Ressource\n",
    "- `POST` für das Erstellen einer neuen Ressource\n",
    "- `PUT` oder `PATCH` für das Aktualisieren einer bestehenden Ressource\n",
    "- `DELETE` für das Löschen einer Ressource"
   ]
  },
  {
   "cell_type": "markdown",
   "id": "fe597f20116ce050",
   "metadata": {
    "lang": "de",
    "slideshow": {
     "slide_type": "subslide"
    },
    "tags": [
     "subslide"
    ]
   },
   "source": [
    "\n",
    "## Überlegungen zur Authentifizierung und Sicherheit\n",
    "\n",
    "- RESTful APIs können mit einer Vielzahl von Authentifizierungs- und\n",
    "  Authentifizierungs- und Autorisierungsmechanismen gesichert werden, wie\n",
    "  API-Schlüssel, OAuth und JSON Web Tokens (JWTs)\n",
    "- HTTPS (HTTP Secure) wird üblicherweise zur Verschlüsselung von Daten\n",
    "  verwendet, die zwischen Clients und Servern ausgetauscht werden, um\n",
    "  unbefugten Zugriff oder das Abfangen von Daten zu verhindern."
   ]
  }
 ],
 "metadata": {
  "jupytext": {
   "cell_metadata_filter": "lang,tags,-all",
   "main_language": "python",
   "notebook_metadata_filter": "-all"
  },
  "kernelspec": {
   "display_name": "Python 3 (ipykernel)",
   "language": "python",
   "name": "python3"
  },
  "language_info": {
   "codemirror_mode": {
    "name": "ipython",
    "version": 3
   },
   "file_extension": ".py",
   "mimetype": "text/x-python",
   "name": "python",
   "nbconvert_exporter": "python",
   "pygments_lexer": "ipython3"
  }
 },
 "nbformat": 4,
 "nbformat_minor": 5
}
