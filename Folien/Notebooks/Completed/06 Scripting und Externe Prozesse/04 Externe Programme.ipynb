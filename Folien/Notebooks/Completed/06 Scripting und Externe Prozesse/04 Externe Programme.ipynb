{
 "cells": [
  {
   "cell_type": "markdown",
   "id": "14ece170886db615",
   "metadata": {
    "lang": "de",
    "slideshow": {
     "slide_type": "slide"
    },
    "tags": [
     "slide"
    ]
   },
   "source": [
    "\n",
    "<img src=\"data:image/svg+xml;base64,PHN2ZyB4bWxucz0iaHR0cDovL3d3dy53My5vcmcvMjAwMC9zdmciIHhtbG5zOnhsaW5rPSJodHRw\n",
    "Oi8vd3d3LnczLm9yZy8xOTk5L3hsaW5rIiB3aWR0aD0iMTExLjE2MSIgaGVpZ2h0PSIxMzQuNjY4\n",
    "IiB2ZXJzaW9uPSIxLjAiPjxkZWZzPjxsaW5lYXJHcmFkaWVudCBpZD0iYyI+PHN0b3Agb2Zmc2V0\n",
    "PSIwIiBzdHlsZT0ic3RvcC1jb2xvcjojYjhiOGI4O3N0b3Atb3BhY2l0eTouNDk4MDM5MjIiLz48\n",
    "c3RvcCBvZmZzZXQ9IjEiIHN0eWxlPSJzdG9wLWNvbG9yOiM3ZjdmN2Y7c3RvcC1vcGFjaXR5OjAi\n",
    "Lz48L2xpbmVhckdyYWRpZW50PjxsaW5lYXJHcmFkaWVudCBpZD0iYSI+PHN0b3Agb2Zmc2V0PSIw\n",
    "IiBzdHlsZT0ic3RvcC1jb2xvcjojZmZkNDNiO3N0b3Atb3BhY2l0eToxIi8+PHN0b3Agb2Zmc2V0\n",
    "PSIxIiBzdHlsZT0ic3RvcC1jb2xvcjojZmZlODczO3N0b3Atb3BhY2l0eToxIi8+PC9saW5lYXJH\n",
    "cmFkaWVudD48bGluZWFyR3JhZGllbnQgaWQ9ImIiPjxzdG9wIG9mZnNldD0iMCIgc3R5bGU9InN0\n",
    "b3AtY29sb3I6IzVhOWZkNDtzdG9wLW9wYWNpdHk6MSIvPjxzdG9wIG9mZnNldD0iMSIgc3R5bGU9\n",
    "InN0b3AtY29sb3I6IzMwNjk5ODtzdG9wLW9wYWNpdHk6MSIvPjwvbGluZWFyR3JhZGllbnQ+PGxp\n",
    "bmVhckdyYWRpZW50IHhsaW5rOmhyZWY9IiNhIiBpZD0iZSIgeDE9IjE1MC45NjEiIHgyPSIxMTIu\n",
    "MDMxIiB5MT0iMTkyLjM1MiIgeTI9IjEzNy4yNzMiIGdyYWRpZW50VHJhbnNmb3JtPSJtYXRyaXgo\n",
    "LjU2MjU0IDAgMCAuNTY3OTcgLTE0Ljk5MSAtMTEuNzAyKSIgZ3JhZGllbnRVbml0cz0idXNlclNw\n",
    "YWNlT25Vc2UiLz48bGluZWFyR3JhZGllbnQgeGxpbms6aHJlZj0iI2IiIGlkPSJkIiB4MT0iMjYu\n",
    "NjQ5IiB4Mj0iMTM1LjY2NSIgeTE9IjIwLjYwNCIgeTI9IjExNC4zOTgiIGdyYWRpZW50VHJhbnNm\n",
    "b3JtPSJtYXRyaXgoLjU2MjU0IDAgMCAuNTY3OTcgLTE0Ljk5MSAtMTEuNzAyKSIgZ3JhZGllbnRV\n",
    "bml0cz0idXNlclNwYWNlT25Vc2UiLz48cmFkaWFsR3JhZGllbnQgeGxpbms6aHJlZj0iI2MiIGlk\n",
    "PSJmIiBjeD0iNjEuNTE5IiBjeT0iMTMyLjI4NiIgcj0iMjkuMDM3IiBmeD0iNjEuNTE5IiBmeT0i\n",
    "MTMyLjI4NiIgZ3JhZGllbnRUcmFuc2Zvcm09Im1hdHJpeCgwIC0uMjM5OTUgMS4wNTQ2NyAwIC04\n",
    "My43IDE0Mi40NjIpIiBncmFkaWVudFVuaXRzPSJ1c2VyU3BhY2VPblVzZSIvPjwvZGVmcz48cGF0\n",
    "aCBkPSJNNTQuOTE5IDBjLTQuNTg0LjAyMi04Ljk2MS40MTMtMTIuODEzIDEuMDk1QzMwLjc2IDMu\n",
    "MDk5IDI4LjcgNy4yOTUgMjguNyAxNS4wMzJ2MTAuMjE5aDI2LjgxM3YzLjQwNkgxOC42MzhjLTcu\n",
    "NzkzIDAtMTQuNjE2IDQuNjg0LTE2Ljc1IDEzLjU5NC0yLjQ2MiAxMC4yMTMtMi41NzEgMTYuNTg2\n",
    "IDAgMjcuMjUgMS45MDUgNy45MzggNi40NTcgMTMuNTk0IDE0LjI1IDEzLjU5NGg5LjIxOHYtMTIu\n",
    "MjVjMC04Ljg1IDcuNjU3LTE2LjY1NyAxNi43NS0xNi42NTdoMjYuNzgyYzcuNDU0IDAgMTMuNDA2\n",
    "LTYuMTM4IDEzLjQwNi0xMy42MjV2LTI1LjUzYzAtNy4yNjctNi4xMy0xMi43MjYtMTMuNDA2LTEz\n",
    "LjkzOEM2NC4yODIuMzI4IDU5LjUwMi0uMDIgNTQuOTE4IDBtLTE0LjUgOC4yMmMyLjc3IDAgNS4w\n",
    "MzEgMi4yOTggNS4wMzEgNS4xMjUgMCAyLjgxNi0yLjI2MiA1LjA5My01LjAzMSA1LjA5My0yLjc4\n",
    "IDAtNS4wMzEtMi4yNzctNS4wMzEtNS4wOTMgMC0yLjgyNyAyLjI1MS01LjEyNSA1LjAzLTUuMTI1\n",
    "IiBzdHlsZT0iZmlsbDp1cmwoI2QpO2ZpbGwtb3BhY2l0eToxIi8+PHBhdGggZD0iTTg1LjYzOCAy\n",
    "OC42NTd2MTEuOTA2YzAgOS4yMzEtNy44MjYgMTctMTYuNzUgMTdINDIuMTA2Yy03LjMzNiAwLTEz\n",
    "LjQwNiA2LjI3OS0xMy40MDYgMTMuNjI1Vjk2LjcyYzAgNy4yNjYgNi4zMTkgMTEuNTQgMTMuNDA2\n",
    "IDEzLjYyNSA4LjQ4OCAyLjQ5NSAxNi42MjcgMi45NDYgMjYuNzgyIDAgNi43NS0xLjk1NSAxMy40\n",
    "MDYtNS44ODggMTMuNDA2LTEzLjYyNVY4Ni41SDU1LjUxM3YtMy40MDVIOTUuN2M3Ljc5MyAwIDEw\n",
    "LjY5Ni01LjQzNiAxMy40MDYtMTMuNTk0IDIuOC04LjM5OSAyLjY4LTE2LjQ3NiAwLTI3LjI1LTEu\n",
    "OTI1LTcuNzU4LTUuNjA0LTEzLjU5NC0xMy40MDYtMTMuNTk0ek03MC41NzUgOTMuMzEzYzIuNzgg\n",
    "MCA1LjAzMSAyLjI3OCA1LjAzMSA1LjA5NCAwIDIuODI3LTIuMjUxIDUuMTI1LTUuMDMxIDUuMTI1\n",
    "LTIuNzcgMC01LjAzMS0yLjI5OC01LjAzMS01LjEyNSAwLTIuODE2IDIuMjYxLTUuMDk0IDUuMDMx\n",
    "LTUuMDk0IiBzdHlsZT0iZmlsbDp1cmwoI2UpO2ZpbGwtb3BhY2l0eToxIi8+PGVsbGlwc2UgY3g9\n",
    "IjU1LjgxNyIgY3k9IjEyNy43MDEiIHJ4PSIzNS45MzEiIHJ5PSI2Ljk2NyIgc3R5bGU9Im9wYWNp\n",
    "dHk6LjQ0MzgyO2ZpbGw6dXJsKCNmKTtmaWxsLW9wYWNpdHk6MTtmaWxsLXJ1bGU6bm9uemVybztz\n",
    "dHJva2U6bm9uZTtzdHJva2Utd2lkdGg6MTUuNDE3NDtzdHJva2UtbWl0ZXJsaW1pdDo0O3N0cm9r\n",
    "ZS1kYXNoYXJyYXk6bm9uZTtzdHJva2Utb3BhY2l0eToxIi8+PC9zdmc+\n",
    "\"\n",
    "     style=\"display:block;margin:auto;width:10%\" alt=\"Python Logo\"/>\n",
    "<br>\n",
    "\n",
    "<div style=\"text-align:center; font-size:200%;\">\n",
    " <b>Externe Programme</b>\n",
    "</div>\n",
    "<br/>\n",
    "<div style=\"text-align:center;\">Dr. Matthias Hölzl</div>\n",
    "<br/>"
   ]
  },
  {
   "cell_type": "markdown",
   "id": "da64a5ee64b94cd3",
   "metadata": {
    "lang": "de",
    "slideshow": {
     "slide_type": "slide"
    },
    "tags": [
     "slide"
    ]
   },
   "source": [
    "## Sub-Prozesse\n",
    "\n",
    "*Hinweis:* Zur Ausführung dieses Notebooks müssen muss das `ext_sample_app`\n",
    "Package (in `Examples/ExternalSampleApplication`) installiert sein.\n",
    "\n",
    "`subprocess.run` ist die bevorzugte Methode um externe Applikationen zu starten."
   ]
  },
  {
   "cell_type": "code",
   "execution_count": null,
   "id": "0a7de143eb95d0f0",
   "metadata": {},
   "outputs": [],
   "source": [
    "from pprint import pprint\n",
    "from subprocess import TimeoutExpired, run"
   ]
  },
  {
   "cell_type": "code",
   "execution_count": null,
   "id": "7cbffda693d3e245",
   "metadata": {},
   "outputs": [],
   "source": [
    "# This may not work if `python` is not in your path...\n",
    "# run([\"python\", \"--version\"])"
   ]
  },
  {
   "cell_type": "markdown",
   "id": "3a1b36a6d7cbc37c",
   "metadata": {
    "lang": "de"
   },
   "source": [
    "Mit `shutil.which()` kann man den vollständigen Pfad eines Programms herausfinden."
   ]
  },
  {
   "cell_type": "code",
   "execution_count": null,
   "id": "3d23fbfedf388a1e",
   "metadata": {},
   "outputs": [],
   "source": [
    "import shutil\n",
    "\n",
    "# shutil.which(\"python\")"
   ]
  },
  {
   "cell_type": "code",
   "execution_count": null,
   "id": "0a2a0993332e474c",
   "metadata": {
    "lines_to_next_cell": 2
   },
   "outputs": [],
   "source": [
    "# cp = run([shutil.which(\"python\"), \"--version\"])"
   ]
  },
  {
   "cell_type": "code",
   "execution_count": null,
   "id": "b27336134db7ccfc",
   "metadata": {},
   "outputs": [],
   "source": [
    "def print_completed_process(cp):\n",
    "    print(\"return code:\", cp.returncode)\n",
    "    print(\"captured stdout:\", repr(cp.stdout))\n",
    "    print(\"captured stderr:\", repr(cp.stderr))"
   ]
  },
  {
   "cell_type": "code",
   "execution_count": null,
   "id": "4cb5d6f0250391e9",
   "metadata": {},
   "outputs": [],
   "source": [
    "# print_completed_process(cp)"
   ]
  },
  {
   "cell_type": "code",
   "execution_count": null,
   "id": "c9fd6a0c054a9a99",
   "metadata": {},
   "outputs": [],
   "source": [
    "# cp = run([\"python\", \"--version\"], capture_output=True, text=True)"
   ]
  },
  {
   "cell_type": "code",
   "execution_count": null,
   "id": "6d6c23cb4d311840",
   "metadata": {},
   "outputs": [],
   "source": [
    "# print_completed_process(cp)"
   ]
  },
  {
   "cell_type": "markdown",
   "id": "49ecc3dcab3b5431",
   "metadata": {
    "lang": "de"
   },
   "source": [
    "\n",
    "Mit `sys.executable` kann man den Pfad des gerade aktiven Python Interpreters\n",
    "herausfinden. Das ist die bevorzugte Methode um einen Python Prozess zu\n",
    "starten."
   ]
  },
  {
   "cell_type": "code",
   "execution_count": null,
   "id": "b80d53026df04f7c",
   "metadata": {},
   "outputs": [],
   "source": [
    "import sys\n",
    "\n",
    "# cp = run([sys.executable, \"--version\"], capture_output=True, text=True)"
   ]
  },
  {
   "cell_type": "code",
   "execution_count": null,
   "id": "ff5982236cb48ce5",
   "metadata": {},
   "outputs": [],
   "source": [
    "# print_completed_process(cp)"
   ]
  },
  {
   "cell_type": "code",
   "execution_count": null,
   "id": "bd91ec3d96a22fe6",
   "metadata": {},
   "outputs": [],
   "source": [
    "# cp = run([sys.executable, \"-m\", \"ext_sample_app\"], capture_output=True, text=True)"
   ]
  },
  {
   "cell_type": "code",
   "execution_count": null,
   "id": "e8d7e71132d8caff",
   "metadata": {},
   "outputs": [],
   "source": [
    "# print_completed_process(cp)"
   ]
  },
  {
   "cell_type": "code",
   "execution_count": null,
   "id": "2ed580f287ac217c",
   "metadata": {},
   "outputs": [],
   "source": [
    "# cp = run(\n",
    "#     [sys.executable, \"-m\", \"ext_sample_app\", \"--help\"], capture_output=True, text=True\n",
    "# )"
   ]
  },
  {
   "cell_type": "code",
   "execution_count": null,
   "id": "2810adc7856dac1b",
   "metadata": {},
   "outputs": [],
   "source": [
    "# print_completed_process(cp)"
   ]
  },
  {
   "cell_type": "code",
   "execution_count": null,
   "id": "622bb986119a4508",
   "metadata": {},
   "outputs": [],
   "source": [
    "# cp = run(\n",
    "#     [sys.executable, \"-m\", \"ext_sample_app\", \"say-hi\"], capture_output=True, text=True\n",
    "# )"
   ]
  },
  {
   "cell_type": "code",
   "execution_count": null,
   "id": "cb46c985c71b2de7",
   "metadata": {},
   "outputs": [],
   "source": [
    "# print_completed_process(cp)"
   ]
  },
  {
   "cell_type": "code",
   "execution_count": null,
   "id": "6c6f2dff568b0cb7",
   "metadata": {},
   "outputs": [],
   "source": [
    "# cp = run(\n",
    "#     [sys.executable, \"-m\", \"ext_sample_app\", \"error\"], capture_output=True, text=True\n",
    "# )"
   ]
  },
  {
   "cell_type": "code",
   "execution_count": null,
   "id": "4d12a2c433af7bba",
   "metadata": {},
   "outputs": [],
   "source": [
    "# print_completed_process(cp)"
   ]
  },
  {
   "cell_type": "code",
   "execution_count": null,
   "id": "ff9e3c731ced11f6",
   "metadata": {},
   "outputs": [],
   "source": [
    "# cp = run(\n",
    "#     [sys.executable, \"-m\", \"ext_sample_app\", \"print-env\"],\n",
    "#     capture_output=True,\n",
    "#     text=True,\n",
    "# )"
   ]
  },
  {
   "cell_type": "code",
   "execution_count": null,
   "id": "013041a7c5eeb945",
   "metadata": {},
   "outputs": [],
   "source": [
    "# pprint(eval(cp.stdout, {}))"
   ]
  },
  {
   "cell_type": "code",
   "execution_count": null,
   "id": "1a529542b2a28a47",
   "metadata": {},
   "outputs": [],
   "source": [
    "# cp = run(\n",
    "#     [sys.executable, \"-m\", \"ext_sample_app\", \"print-env\"],\n",
    "#     capture_output=True,\n",
    "#     text=True,\n",
    "#     env={b\"MY_VAR\": b\"123\", b\"YOUR_VAR\": b\"123\"},\n",
    "# )"
   ]
  },
  {
   "cell_type": "code",
   "execution_count": null,
   "id": "f5587420404ee2a7",
   "metadata": {},
   "outputs": [],
   "source": [
    "# pprint(eval(cp.stdout, {}))"
   ]
  },
  {
   "cell_type": "code",
   "execution_count": null,
   "id": "52e23a62a011d750",
   "metadata": {},
   "outputs": [],
   "source": [
    "# THIS DOES NOT WORK!\n",
    "# cp = run(\n",
    "#     [sys.executable, \"-m\", \"ext_sample_app\", \"interact\"],\n",
    "#     capture_output=True, text=True\n",
    "# )"
   ]
  },
  {
   "cell_type": "code",
   "execution_count": null,
   "id": "8a676ab6ef5ca261",
   "metadata": {},
   "outputs": [],
   "source": [
    "# print_completed_process(cp)"
   ]
  },
  {
   "cell_type": "code",
   "execution_count": null,
   "id": "8f8341094f62dbb3",
   "metadata": {},
   "outputs": [],
   "source": [
    "# cp = run(\n",
    "#     [sys.executable, \"-m\", \"ext_sample_app\", \"interact\"],\n",
    "#     input=\"exit\",\n",
    "#     capture_output=True,\n",
    "#     text=True,\n",
    "# )"
   ]
  },
  {
   "cell_type": "code",
   "execution_count": null,
   "id": "659ab980e960bc9e",
   "metadata": {},
   "outputs": [],
   "source": [
    "# print_completed_process(cp)"
   ]
  },
  {
   "cell_type": "code",
   "execution_count": null,
   "id": "f45911ae7f0ff70e",
   "metadata": {},
   "outputs": [],
   "source": [
    "# cp = run(\n",
    "#     [sys.executable, \"-m\", \"ext_sample_app\", \"interact\"],\n",
    "#     input=\"work\",\n",
    "#     capture_output=True,\n",
    "#     text=True,\n",
    "# )"
   ]
  },
  {
   "cell_type": "code",
   "execution_count": null,
   "id": "d9f4de2f4bf40659",
   "metadata": {},
   "outputs": [],
   "source": [
    "# print_completed_process(cp)"
   ]
  },
  {
   "cell_type": "code",
   "execution_count": null,
   "id": "0593bc3e05cec3d9",
   "metadata": {},
   "outputs": [],
   "source": [
    "# cp = run(\n",
    "#     [sys.executable, \"-m\", \"ext_sample_app\", \"interact\"],\n",
    "#     input=\"do something impossible\",\n",
    "#     capture_output=True,\n",
    "#     text=True,\n",
    "# )"
   ]
  },
  {
   "cell_type": "code",
   "execution_count": null,
   "id": "78711932385eba71",
   "metadata": {},
   "outputs": [],
   "source": [
    "# print_completed_process(cp)"
   ]
  },
  {
   "cell_type": "markdown",
   "id": "ea9c6c3f591e3267",
   "metadata": {
    "lang": "de"
   },
   "source": [
    "## Popen: Nebenläufige Ausführung von Programmen\n",
    "\n",
    "Wenn man nicht warten kann, bis das gestartete Programm beendet wird muss man\n",
    "die `subprocess.Popen` Klasse verwenden:"
   ]
  },
  {
   "cell_type": "code",
   "execution_count": null,
   "id": "fffe569503983419",
   "metadata": {},
   "outputs": [],
   "source": [
    "from subprocess import Popen, PIPE\n",
    "import sys"
   ]
  },
  {
   "cell_type": "code",
   "execution_count": null,
   "id": "f3ba34cf3e8108e4",
   "metadata": {},
   "outputs": [],
   "source": [
    "# proc = Popen(\n",
    "#     [sys.executable, \"-m\", \"ext_sample_app\", \"interact\"],\n",
    "#     stdin=PIPE,\n",
    "#     stderr=PIPE,\n",
    "#     stdout=PIPE,\n",
    "#     encoding=\"utf-8\",\n",
    "#     universal_newlines=True,\n",
    "#     bufsize=0,\n",
    "# )"
   ]
  },
  {
   "cell_type": "code",
   "execution_count": null,
   "id": "49fb4403ddd3ddfc",
   "metadata": {},
   "outputs": [],
   "source": [
    "# type(proc)"
   ]
  },
  {
   "cell_type": "markdown",
   "id": "e3c789fdb38831e4",
   "metadata": {
    "lang": "de"
   },
   "source": [
    "\n",
    "`proc.communicate()` sendet eine Nachricht and `proc`, schließt die Ein- und\n",
    "Ausgabeströme und beendet den Prozess."
   ]
  },
  {
   "cell_type": "code",
   "execution_count": null,
   "id": "12aa1217213248d8",
   "metadata": {},
   "outputs": [],
   "source": [
    "# proc.communicate(\"work\")"
   ]
  },
  {
   "cell_type": "markdown",
   "id": "880353a6f2914926",
   "metadata": {
    "lang": "de"
   },
   "source": [
    "\n",
    "Mit `proc.poll()` kann man feststellen, ob der Prozess schon beendet wurde und\n",
    "was der Rückgabewert war. Falls das Ergebnis `None` ist, ist der Prozess noch\n",
    "aktiv. `proc.wait()` wartet eine bestimmte Zeit und gibt den Rückgabewert des\n",
    "Prozesses zurück. Falls der Prozess nicht in der vorgegebenen Zeit beendet\n",
    "wurde, wird eine `TimeoutExpired` Exception ausgelöst."
   ]
  },
  {
   "cell_type": "code",
   "execution_count": null,
   "id": "2491f2af635d5bd6",
   "metadata": {
    "lines_to_next_cell": 2
   },
   "outputs": [],
   "source": [
    "# proc.poll()"
   ]
  },
  {
   "cell_type": "code",
   "execution_count": null,
   "id": "5399ed4cb8610356",
   "metadata": {
    "lines_to_next_cell": 2
   },
   "outputs": [],
   "source": [
    "def run_and_communicate(command, timeout=None):\n",
    "    wait_result = None\n",
    "    result = None\n",
    "    proc = Popen(\n",
    "        [sys.executable, \"-m\", \"ext_sample_app\", \"interact\"],\n",
    "        stdin=PIPE,\n",
    "        stderr=PIPE,\n",
    "        stdout=PIPE,\n",
    "        encoding=\"utf-8\",\n",
    "        universal_newlines=True,\n",
    "        bufsize=0,\n",
    "    )\n",
    "    try:\n",
    "        result = proc.communicate(command, timeout=timeout)\n",
    "    except TimeoutExpired:\n",
    "        print(\"Process did not terminate!\")\n",
    "        proc.terminate()\n",
    "        wait_result = proc.wait(5.0)\n",
    "    return result, wait_result"
   ]
  },
  {
   "cell_type": "code",
   "execution_count": null,
   "id": "d05803eb2bf60c0e",
   "metadata": {},
   "outputs": [],
   "source": [
    "# run_and_communicate(\"exit\")"
   ]
  },
  {
   "cell_type": "code",
   "execution_count": null,
   "id": "61e06b7caa68189a",
   "metadata": {},
   "outputs": [],
   "source": [
    "# run_and_communicate(\"work\")"
   ]
  },
  {
   "cell_type": "code",
   "execution_count": null,
   "id": "375278926a128c23",
   "metadata": {},
   "outputs": [],
   "source": [
    "# run_and_communicate(\"work slowly\", 0.1)"
   ]
  },
  {
   "cell_type": "code",
   "execution_count": null,
   "id": "717940289f89d0ec",
   "metadata": {},
   "outputs": [],
   "source": [
    "# run_and_communicate(\"error\")"
   ]
  },
  {
   "cell_type": "markdown",
   "id": "bc7678e4be958f14",
   "metadata": {
    "lang": "de"
   },
   "source": [
    "## Kommunikation mit Sockets\n",
    "\n",
    "Das folgende Beispiel zeigt, wie man einen Prozess starten und dann über\n",
    "Sockets mit ihm kommunizieren kann."
   ]
  },
  {
   "cell_type": "code",
   "execution_count": null,
   "id": "be3aeec6f5928075",
   "metadata": {},
   "outputs": [],
   "source": [
    "from subprocess import Popen, PIPE\n",
    "import sys\n",
    "\n",
    "HOST = \"localhost\"\n",
    "PORT = 12345"
   ]
  },
  {
   "cell_type": "code",
   "execution_count": null,
   "id": "537dbe0589dd6d53",
   "metadata": {
    "lines_to_next_cell": 2
   },
   "outputs": [],
   "source": [
    "from socket import socket, AF_INET, SOCK_STREAM\n",
    "import sys\n",
    "\n",
    "\n",
    "def send_message(msg: str):\n",
    "    with socket(AF_INET, SOCK_STREAM) as sock:\n",
    "        sock.connect((HOST, PORT))\n",
    "        sock.sendall(bytes(msg + \"\\n\", \"utf-8\"))\n",
    "        return str(sock.recv(1024), \"utf-8\")"
   ]
  },
  {
   "cell_type": "code",
   "execution_count": null,
   "id": "85f7212abf17c9f2",
   "metadata": {},
   "outputs": [],
   "source": [
    "# proc = Popen(\n",
    "#     [\n",
    "#         sys.executable,\n",
    "#         \"-m\",\n",
    "#         \"ext_sample_app\",\n",
    "#         \"serve\",\n",
    "#         \"--host\",\n",
    "#         HOST,\n",
    "#         \"--port\",\n",
    "#         str(PORT),\n",
    "#     ],\n",
    "#     stdin=PIPE,\n",
    "#     stderr=PIPE,\n",
    "#     stdout=PIPE,\n",
    "#     encoding=\"utf-8\",\n",
    "#     universal_newlines=True,\n",
    "#     bufsize=0,\n",
    "# )"
   ]
  },
  {
   "cell_type": "code",
   "execution_count": null,
   "id": "5774797dca54ebe0",
   "metadata": {},
   "outputs": [],
   "source": [
    "# proc.poll()"
   ]
  },
  {
   "cell_type": "code",
   "execution_count": null,
   "id": "c5c2ea6ed8f49987",
   "metadata": {},
   "outputs": [],
   "source": [
    "# send_message(\"Hello, world!\")"
   ]
  },
  {
   "cell_type": "code",
   "execution_count": null,
   "id": "72678128ba3ac218",
   "metadata": {},
   "outputs": [],
   "source": [
    "# send_message(\"Are you running?\")"
   ]
  },
  {
   "cell_type": "code",
   "execution_count": null,
   "id": "75bddbdeb87c2651",
   "metadata": {},
   "outputs": [],
   "source": [
    "# proc.poll()"
   ]
  },
  {
   "cell_type": "code",
   "execution_count": null,
   "id": "3c715a80be04ccfa",
   "metadata": {},
   "outputs": [],
   "source": [
    "# proc.terminate()"
   ]
  },
  {
   "cell_type": "code",
   "execution_count": null,
   "id": "a92cfb9ac379fddf",
   "metadata": {},
   "outputs": [],
   "source": [
    "# proc.poll()"
   ]
  },
  {
   "cell_type": "code",
   "execution_count": null,
   "id": "0059635ce0d3c817",
   "metadata": {},
   "outputs": [],
   "source": [
    "# try:\n",
    "#     send_message(\"Are you still running?\")\n",
    "# except ConnectionRefusedError as err:\n",
    "#     print(\"Could not connect to server.\")\n",
    "#     print(err)"
   ]
  },
  {
   "cell_type": "code",
   "execution_count": null,
   "id": "ada62c11957fde09",
   "metadata": {},
   "outputs": [],
   "source": [
    "# proc.poll()"
   ]
  },
  {
   "cell_type": "code",
   "execution_count": null,
   "id": "6b4e03423667dbb7",
   "metadata": {},
   "outputs": [],
   "source": []
  }
 ],
 "metadata": {
  "jupytext": {
   "cell_metadata_filter": "tags,lang,-all",
   "main_language": "python",
   "notebook_metadata_filter": "-all"
  },
  "kernelspec": {
   "display_name": "Python 3 (ipykernel)",
   "language": "python",
   "name": "python3"
  },
  "language_info": {
   "codemirror_mode": {
    "name": "ipython",
    "version": 3
   },
   "file_extension": ".py",
   "mimetype": "text/x-python",
   "name": "python",
   "nbconvert_exporter": "python",
   "pygments_lexer": "ipython3"
  }
 },
 "nbformat": 4,
 "nbformat_minor": 5
}
