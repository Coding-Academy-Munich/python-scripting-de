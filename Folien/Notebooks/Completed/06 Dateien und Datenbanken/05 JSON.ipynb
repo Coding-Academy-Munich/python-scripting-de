{
 "cells": [
  {
   "cell_type": "markdown",
   "id": "79ce5724faa32cb2",
   "metadata": {
    "lang": "de",
    "slideshow": {
     "slide_type": "slide"
    },
    "tags": [
     "slide"
    ]
   },
   "source": [
    "\n",
    "<img src=\"data:image/svg+xml;base64,PHN2ZyB4bWxucz0iaHR0cDovL3d3dy53My5vcmcvMjAwMC9zdmciIHhtbG5zOnhsaW5rPSJodHRw\n",
    "Oi8vd3d3LnczLm9yZy8xOTk5L3hsaW5rIiB3aWR0aD0iMTExLjE2MSIgaGVpZ2h0PSIxMzQuNjY4\n",
    "IiB2ZXJzaW9uPSIxLjAiPjxkZWZzPjxsaW5lYXJHcmFkaWVudCBpZD0iYyI+PHN0b3Agb2Zmc2V0\n",
    "PSIwIiBzdHlsZT0ic3RvcC1jb2xvcjojYjhiOGI4O3N0b3Atb3BhY2l0eTouNDk4MDM5MjIiLz48\n",
    "c3RvcCBvZmZzZXQ9IjEiIHN0eWxlPSJzdG9wLWNvbG9yOiM3ZjdmN2Y7c3RvcC1vcGFjaXR5OjAi\n",
    "Lz48L2xpbmVhckdyYWRpZW50PjxsaW5lYXJHcmFkaWVudCBpZD0iYSI+PHN0b3Agb2Zmc2V0PSIw\n",
    "IiBzdHlsZT0ic3RvcC1jb2xvcjojZmZkNDNiO3N0b3Atb3BhY2l0eToxIi8+PHN0b3Agb2Zmc2V0\n",
    "PSIxIiBzdHlsZT0ic3RvcC1jb2xvcjojZmZlODczO3N0b3Atb3BhY2l0eToxIi8+PC9saW5lYXJH\n",
    "cmFkaWVudD48bGluZWFyR3JhZGllbnQgaWQ9ImIiPjxzdG9wIG9mZnNldD0iMCIgc3R5bGU9InN0\n",
    "b3AtY29sb3I6IzVhOWZkNDtzdG9wLW9wYWNpdHk6MSIvPjxzdG9wIG9mZnNldD0iMSIgc3R5bGU9\n",
    "InN0b3AtY29sb3I6IzMwNjk5ODtzdG9wLW9wYWNpdHk6MSIvPjwvbGluZWFyR3JhZGllbnQ+PGxp\n",
    "bmVhckdyYWRpZW50IHhsaW5rOmhyZWY9IiNhIiBpZD0iZSIgeDE9IjE1MC45NjEiIHgyPSIxMTIu\n",
    "MDMxIiB5MT0iMTkyLjM1MiIgeTI9IjEzNy4yNzMiIGdyYWRpZW50VHJhbnNmb3JtPSJtYXRyaXgo\n",
    "LjU2MjU0IDAgMCAuNTY3OTcgLTE0Ljk5MSAtMTEuNzAyKSIgZ3JhZGllbnRVbml0cz0idXNlclNw\n",
    "YWNlT25Vc2UiLz48bGluZWFyR3JhZGllbnQgeGxpbms6aHJlZj0iI2IiIGlkPSJkIiB4MT0iMjYu\n",
    "NjQ5IiB4Mj0iMTM1LjY2NSIgeTE9IjIwLjYwNCIgeTI9IjExNC4zOTgiIGdyYWRpZW50VHJhbnNm\n",
    "b3JtPSJtYXRyaXgoLjU2MjU0IDAgMCAuNTY3OTcgLTE0Ljk5MSAtMTEuNzAyKSIgZ3JhZGllbnRV\n",
    "bml0cz0idXNlclNwYWNlT25Vc2UiLz48cmFkaWFsR3JhZGllbnQgeGxpbms6aHJlZj0iI2MiIGlk\n",
    "PSJmIiBjeD0iNjEuNTE5IiBjeT0iMTMyLjI4NiIgcj0iMjkuMDM3IiBmeD0iNjEuNTE5IiBmeT0i\n",
    "MTMyLjI4NiIgZ3JhZGllbnRUcmFuc2Zvcm09Im1hdHJpeCgwIC0uMjM5OTUgMS4wNTQ2NyAwIC04\n",
    "My43IDE0Mi40NjIpIiBncmFkaWVudFVuaXRzPSJ1c2VyU3BhY2VPblVzZSIvPjwvZGVmcz48cGF0\n",
    "aCBkPSJNNTQuOTE5IDBjLTQuNTg0LjAyMi04Ljk2MS40MTMtMTIuODEzIDEuMDk1QzMwLjc2IDMu\n",
    "MDk5IDI4LjcgNy4yOTUgMjguNyAxNS4wMzJ2MTAuMjE5aDI2LjgxM3YzLjQwNkgxOC42MzhjLTcu\n",
    "NzkzIDAtMTQuNjE2IDQuNjg0LTE2Ljc1IDEzLjU5NC0yLjQ2MiAxMC4yMTMtMi41NzEgMTYuNTg2\n",
    "IDAgMjcuMjUgMS45MDUgNy45MzggNi40NTcgMTMuNTk0IDE0LjI1IDEzLjU5NGg5LjIxOHYtMTIu\n",
    "MjVjMC04Ljg1IDcuNjU3LTE2LjY1NyAxNi43NS0xNi42NTdoMjYuNzgyYzcuNDU0IDAgMTMuNDA2\n",
    "LTYuMTM4IDEzLjQwNi0xMy42MjV2LTI1LjUzYzAtNy4yNjctNi4xMy0xMi43MjYtMTMuNDA2LTEz\n",
    "LjkzOEM2NC4yODIuMzI4IDU5LjUwMi0uMDIgNTQuOTE4IDBtLTE0LjUgOC4yMmMyLjc3IDAgNS4w\n",
    "MzEgMi4yOTggNS4wMzEgNS4xMjUgMCAyLjgxNi0yLjI2MiA1LjA5My01LjAzMSA1LjA5My0yLjc4\n",
    "IDAtNS4wMzEtMi4yNzctNS4wMzEtNS4wOTMgMC0yLjgyNyAyLjI1MS01LjEyNSA1LjAzLTUuMTI1\n",
    "IiBzdHlsZT0iZmlsbDp1cmwoI2QpO2ZpbGwtb3BhY2l0eToxIi8+PHBhdGggZD0iTTg1LjYzOCAy\n",
    "OC42NTd2MTEuOTA2YzAgOS4yMzEtNy44MjYgMTctMTYuNzUgMTdINDIuMTA2Yy03LjMzNiAwLTEz\n",
    "LjQwNiA2LjI3OS0xMy40MDYgMTMuNjI1Vjk2LjcyYzAgNy4yNjYgNi4zMTkgMTEuNTQgMTMuNDA2\n",
    "IDEzLjYyNSA4LjQ4OCAyLjQ5NSAxNi42MjcgMi45NDYgMjYuNzgyIDAgNi43NS0xLjk1NSAxMy40\n",
    "MDYtNS44ODggMTMuNDA2LTEzLjYyNVY4Ni41SDU1LjUxM3YtMy40MDVIOTUuN2M3Ljc5MyAwIDEw\n",
    "LjY5Ni01LjQzNiAxMy40MDYtMTMuNTk0IDIuOC04LjM5OSAyLjY4LTE2LjQ3NiAwLTI3LjI1LTEu\n",
    "OTI1LTcuNzU4LTUuNjA0LTEzLjU5NC0xMy40MDYtMTMuNTk0ek03MC41NzUgOTMuMzEzYzIuNzgg\n",
    "MCA1LjAzMSAyLjI3OCA1LjAzMSA1LjA5NCAwIDIuODI3LTIuMjUxIDUuMTI1LTUuMDMxIDUuMTI1\n",
    "LTIuNzcgMC01LjAzMS0yLjI5OC01LjAzMS01LjEyNSAwLTIuODE2IDIuMjYxLTUuMDk0IDUuMDMx\n",
    "LTUuMDk0IiBzdHlsZT0iZmlsbDp1cmwoI2UpO2ZpbGwtb3BhY2l0eToxIi8+PGVsbGlwc2UgY3g9\n",
    "IjU1LjgxNyIgY3k9IjEyNy43MDEiIHJ4PSIzNS45MzEiIHJ5PSI2Ljk2NyIgc3R5bGU9Im9wYWNp\n",
    "dHk6LjQ0MzgyO2ZpbGw6dXJsKCNmKTtmaWxsLW9wYWNpdHk6MTtmaWxsLXJ1bGU6bm9uemVybztz\n",
    "dHJva2U6bm9uZTtzdHJva2Utd2lkdGg6MTUuNDE3NDtzdHJva2UtbWl0ZXJsaW1pdDo0O3N0cm9r\n",
    "ZS1kYXNoYXJyYXk6bm9uZTtzdHJva2Utb3BhY2l0eToxIi8+PC9zdmc+\n",
    "\"\n",
    "     style=\"display:block;margin:auto;width:10%\" alt=\"Python Logo\"/>\n",
    "<br>\n",
    "\n",
    "<div style=\"text-align:center; font-size:200%;\">\n",
    " <b>JSON</b>\n",
    "</div>\n",
    "<br/>\n",
    "<div style=\"text-align:center;\">Dr. Matthias Hölzl</div>\n",
    "<br/>"
   ]
  },
  {
   "cell_type": "markdown",
   "id": "197162de06becd59",
   "metadata": {
    "lang": "de",
    "slideshow": {
     "slide_type": "slide"
    },
    "tags": [
     "slide"
    ]
   },
   "source": [
    "\n",
    "# JSON\n",
    "\n",
    "Python bietet ein eingebautes Paket `json` an, mit dem JSON-Daten in\n",
    "Python-Datenstrukturen übersetzt werden können."
   ]
  },
  {
   "cell_type": "code",
   "execution_count": null,
   "id": "bfaa326ed578e511",
   "metadata": {
    "tags": [
     "keep"
    ]
   },
   "outputs": [],
   "source": [
    "import json\n",
    "import os\n",
    "from pathlib import Path\n",
    "from pprint import pprint"
   ]
  },
  {
   "cell_type": "markdown",
   "id": "48191f640f7160f9",
   "metadata": {
    "lang": "de",
    "slideshow": {
     "slide_type": "subslide"
    },
    "tags": [
     "subslide"
    ]
   },
   "source": [
    "\n",
    "Falls die verwendeten JSON Dateien nicht automatisch gefunden werden, kann\n",
    "über die Environment-Variable `CAM_DATA_DIR_PATH` der korrekte Pfad gesetzt\n",
    "werden."
   ]
  },
  {
   "cell_type": "code",
   "execution_count": null,
   "id": "8596c484f0d2874b",
   "metadata": {
    "tags": [
     "keep"
    ]
   },
   "outputs": [],
   "source": [
    "CAM_DATA_DIR_FROM_ENV = os.getenv(\"CAM_DATA_DIR_PATH\")\n",
    "if CAM_DATA_DIR_FROM_ENV:\n",
    "    data_dir = Path(CAM_DATA_DIR_FROM_ENV)\n",
    "else:\n",
    "    data_dir = Path().absolute()\n",
    "print(f\"Data directory: {data_dir}\")\n",
    "assert data_dir.exists()"
   ]
  },
  {
   "cell_type": "markdown",
   "id": "f2dd544203a5df11",
   "metadata": {
    "lang": "de",
    "slideshow": {
     "slide_type": "subslide"
    },
    "tags": [
     "subslide"
    ]
   },
   "source": [
    "\n",
    "## JSON aus Strings\n",
    "\n",
    "Zur Illustration laden wir die JSON-Datei in einen String und wandeln den String\n",
    "in Python-Objekte um. Normalerweise führen wir die Umwandlung direkt von der\n",
    "Datei aus durch, ohne vorher einen Python-String zu erzeugen."
   ]
  },
  {
   "cell_type": "code",
   "execution_count": null,
   "id": "eb19be0bbd5793d3",
   "metadata": {
    "slideshow": {
     "slide_type": "slide"
    },
    "tags": [
     "keep",
     "slide"
    ]
   },
   "outputs": [],
   "source": [
    "with open(data_dir / \"simple-menu.json\") as file:\n",
    "    json_data = file.read()"
   ]
  },
  {
   "cell_type": "code",
   "execution_count": null,
   "id": "f010b5fada550d3d",
   "metadata": {},
   "outputs": [],
   "source": [
    "print(json_data)"
   ]
  },
  {
   "cell_type": "code",
   "execution_count": null,
   "id": "317333cb7ab27f1f",
   "metadata": {},
   "outputs": [],
   "source": [
    "type(json_data)"
   ]
  },
  {
   "cell_type": "markdown",
   "id": "436563718db10aef",
   "metadata": {
    "lang": "de",
    "slideshow": {
     "slide_type": "subslide"
    },
    "tags": [
     "subslide"
    ]
   },
   "source": [
    "\n",
    "Die Funktion `json.loads()` wandelt einen String im JSON-Format in Python-Objekte\n",
    "um. Dabei werden die JSON-Datentypen wie folgt nach Python übersetzt:\n",
    "\n",
    "| JSON Typ | Python Typ      |\n",
    "|----------|-----------------|\n",
    "| `object`  | `dict`          |\n",
    "| `array`  | `list`, `tuple` |\n",
    "| `string` | `str`           |\n",
    "| `number` | `int`, `float`  |\n",
    "| `true`   | `True`          |\n",
    "| `false`  | `False`         |\n",
    "| `null`   | `None`          |"
   ]
  },
  {
   "cell_type": "code",
   "execution_count": null,
   "id": "630c4b95c9ebea66",
   "metadata": {},
   "outputs": [],
   "source": [
    "data = json.loads(json_data)"
   ]
  },
  {
   "cell_type": "code",
   "execution_count": null,
   "id": "ad39e24c56827d23",
   "metadata": {},
   "outputs": [],
   "source": [
    "type(data)"
   ]
  },
  {
   "cell_type": "code",
   "execution_count": null,
   "id": "3896e3bf0d14be30",
   "metadata": {},
   "outputs": [],
   "source": [
    "pprint(data)"
   ]
  },
  {
   "cell_type": "code",
   "execution_count": null,
   "id": "3374bee810ca2af9",
   "metadata": {},
   "outputs": [],
   "source": [
    "json_dump = json.dumps(data)"
   ]
  },
  {
   "cell_type": "code",
   "execution_count": null,
   "id": "4adf49d7c6e3ea73",
   "metadata": {},
   "outputs": [],
   "source": [
    "type(json_dump)"
   ]
  },
  {
   "cell_type": "code",
   "execution_count": null,
   "id": "7e2af6b817871c89",
   "metadata": {},
   "outputs": [],
   "source": [
    "print(json_dump)"
   ]
  },
  {
   "cell_type": "code",
   "execution_count": null,
   "id": "2124a32008eefc60",
   "metadata": {},
   "outputs": [],
   "source": [
    "print(json.dumps(data, indent=4))"
   ]
  },
  {
   "cell_type": "markdown",
   "id": "691b5ca5042575eb",
   "metadata": {
    "lang": "de",
    "slideshow": {
     "slide_type": "subslide"
    },
    "tags": [
     "subslide"
    ]
   },
   "source": [
    "\n",
    "Meistens verwendet man die Funktion `json.load()` um die JSON-Daten direkt aus einer\n",
    "Datei zu laden:"
   ]
  },
  {
   "cell_type": "code",
   "execution_count": null,
   "id": "29220ded00cf958b",
   "metadata": {},
   "outputs": [],
   "source": [
    "with open(data_dir / \"simple-menu.json\", encoding=\"utf-8\") as file:\n",
    "    json_data = json.load(file)"
   ]
  },
  {
   "cell_type": "code",
   "execution_count": null,
   "id": "3036455a021b0161",
   "metadata": {},
   "outputs": [],
   "source": [
    "pprint(json_data)"
   ]
  },
  {
   "cell_type": "markdown",
   "id": "b7a1f9f1ce9b4cd4",
   "metadata": {
    "lang": "de",
    "slideshow": {
     "slide_type": "slide"
    },
    "tags": [
     "slide"
    ]
   },
   "source": [
    "\n",
    "## Mini-Workshop: Kochrezepte\n",
    "\n",
    "In der Datei `recipes.json` sind Kochrezepte im JSON-Format gespeichert.\n",
    "\n",
    "Die Rezepte sind in einer Liste zusammengefasst.\n",
    "\n",
    "Jedes Rezept ist dabei ein JSON Objekt, das folgende Attribute enthält:\n",
    "- `title` (String)\n",
    "- `ingredients` (Liste von Strings): die Zutaten\n",
    "- `instructions` (Liste von Strings): Anweisungen zum Kochen; jedes Element gibt\n",
    "  einen Schritt des Kochablaufs an\n",
    "- `tips` (Liste von Strings): Weitere Hinweise\n",
    "\n",
    "Lesen Sie diese Datei ein und geben Sie die Liste der Rezepte in folgendem\n",
    "Format aus:\n",
    "\n",
    "```\n",
    "# Title\n",
    "\n",
    "## Ingredients\n",
    "- Zutat 1\n",
    "- Zutat 2\n",
    "- ...\n",
    "\n",
    "## Instructions\n",
    "1. Anweisung 1\n",
    "2. Anweisung 2\n",
    "3. ...\n",
    "\n",
    "## Tips\n",
    "- Tip 1\n",
    "- Tip 2\n",
    "- ...\n",
    "```"
   ]
  },
  {
   "cell_type": "code",
   "execution_count": null,
   "id": "7ccd03c5ec69ae91",
   "metadata": {},
   "outputs": [],
   "source": [
    "with open(data_dir / \"recipes.json\", \"r\", encoding=\"utf-8\") as file:\n",
    "    recipes = json.load(file)"
   ]
  },
  {
   "cell_type": "code",
   "execution_count": null,
   "id": "1a2f90b76fef9dbe",
   "metadata": {},
   "outputs": [],
   "source": [
    "pprint(recipes)"
   ]
  },
  {
   "cell_type": "code",
   "execution_count": null,
   "id": "9460ddca1f5c7b23",
   "metadata": {},
   "outputs": [],
   "source": [
    "for recipe in recipes:\n",
    "    print(f\"# {recipe['title']}\\n\")\n",
    "    print(\"## Ingredients\\n\")\n",
    "    for ingredient in recipe[\"ingredients\"]:\n",
    "        print(f\"- {ingredient}\")\n",
    "    print(\"\\n## Instructions\\n\")\n",
    "    for n, instruction in enumerate(recipe[\"instructions\"], 1):\n",
    "        print(f\"{n}. {instruction}\")\n",
    "    print(\"\\n## Tips\\n\")\n",
    "    for tip in recipe[\"tips\"]:\n",
    "        print(f\"- {tip}\")\n",
    "    print(\"\\n\")"
   ]
  },
  {
   "cell_type": "code",
   "execution_count": null,
   "id": "6b4e03423667dbb7",
   "metadata": {},
   "outputs": [],
   "source": []
  }
 ],
 "metadata": {
  "jupytext": {
   "cell_metadata_filter": "tags,lang,-all",
   "main_language": "python",
   "notebook_metadata_filter": "-all"
  },
  "kernelspec": {
   "display_name": "Python 3 (ipykernel)",
   "language": "python",
   "name": "python3"
  },
  "language_info": {
   "codemirror_mode": {
    "name": "ipython",
    "version": 3
   },
   "file_extension": ".py",
   "mimetype": "text/x-python",
   "name": "python",
   "nbconvert_exporter": "python",
   "pygments_lexer": "ipython3"
  }
 },
 "nbformat": 4,
 "nbformat_minor": 5
}
