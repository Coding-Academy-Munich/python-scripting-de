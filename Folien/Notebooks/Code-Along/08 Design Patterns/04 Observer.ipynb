{
 "cells": [
  {
   "cell_type": "markdown",
   "id": "fb6665b22db57bf8",
   "metadata": {
    "lang": "de",
    "slideshow": {
     "slide_type": "slide"
    },
    "tags": [
     "slide"
    ]
   },
   "source": [
    "\n",
    "<img src=\"data:image/svg+xml;base64,PHN2ZyB4bWxucz0iaHR0cDovL3d3dy53My5vcmcvMjAwMC9zdmciIHhtbG5zOnhsaW5rPSJodHRw\n",
    "Oi8vd3d3LnczLm9yZy8xOTk5L3hsaW5rIiB3aWR0aD0iMTExLjE2MSIgaGVpZ2h0PSIxMzQuNjY4\n",
    "IiB2ZXJzaW9uPSIxLjAiPjxkZWZzPjxsaW5lYXJHcmFkaWVudCBpZD0iYyI+PHN0b3Agb2Zmc2V0\n",
    "PSIwIiBzdHlsZT0ic3RvcC1jb2xvcjojYjhiOGI4O3N0b3Atb3BhY2l0eTouNDk4MDM5MjIiLz48\n",
    "c3RvcCBvZmZzZXQ9IjEiIHN0eWxlPSJzdG9wLWNvbG9yOiM3ZjdmN2Y7c3RvcC1vcGFjaXR5OjAi\n",
    "Lz48L2xpbmVhckdyYWRpZW50PjxsaW5lYXJHcmFkaWVudCBpZD0iYSI+PHN0b3Agb2Zmc2V0PSIw\n",
    "IiBzdHlsZT0ic3RvcC1jb2xvcjojZmZkNDNiO3N0b3Atb3BhY2l0eToxIi8+PHN0b3Agb2Zmc2V0\n",
    "PSIxIiBzdHlsZT0ic3RvcC1jb2xvcjojZmZlODczO3N0b3Atb3BhY2l0eToxIi8+PC9saW5lYXJH\n",
    "cmFkaWVudD48bGluZWFyR3JhZGllbnQgaWQ9ImIiPjxzdG9wIG9mZnNldD0iMCIgc3R5bGU9InN0\n",
    "b3AtY29sb3I6IzVhOWZkNDtzdG9wLW9wYWNpdHk6MSIvPjxzdG9wIG9mZnNldD0iMSIgc3R5bGU9\n",
    "InN0b3AtY29sb3I6IzMwNjk5ODtzdG9wLW9wYWNpdHk6MSIvPjwvbGluZWFyR3JhZGllbnQ+PGxp\n",
    "bmVhckdyYWRpZW50IHhsaW5rOmhyZWY9IiNhIiBpZD0iZSIgeDE9IjE1MC45NjEiIHgyPSIxMTIu\n",
    "MDMxIiB5MT0iMTkyLjM1MiIgeTI9IjEzNy4yNzMiIGdyYWRpZW50VHJhbnNmb3JtPSJtYXRyaXgo\n",
    "LjU2MjU0IDAgMCAuNTY3OTcgLTE0Ljk5MSAtMTEuNzAyKSIgZ3JhZGllbnRVbml0cz0idXNlclNw\n",
    "YWNlT25Vc2UiLz48bGluZWFyR3JhZGllbnQgeGxpbms6aHJlZj0iI2IiIGlkPSJkIiB4MT0iMjYu\n",
    "NjQ5IiB4Mj0iMTM1LjY2NSIgeTE9IjIwLjYwNCIgeTI9IjExNC4zOTgiIGdyYWRpZW50VHJhbnNm\n",
    "b3JtPSJtYXRyaXgoLjU2MjU0IDAgMCAuNTY3OTcgLTE0Ljk5MSAtMTEuNzAyKSIgZ3JhZGllbnRV\n",
    "bml0cz0idXNlclNwYWNlT25Vc2UiLz48cmFkaWFsR3JhZGllbnQgeGxpbms6aHJlZj0iI2MiIGlk\n",
    "PSJmIiBjeD0iNjEuNTE5IiBjeT0iMTMyLjI4NiIgcj0iMjkuMDM3IiBmeD0iNjEuNTE5IiBmeT0i\n",
    "MTMyLjI4NiIgZ3JhZGllbnRUcmFuc2Zvcm09Im1hdHJpeCgwIC0uMjM5OTUgMS4wNTQ2NyAwIC04\n",
    "My43IDE0Mi40NjIpIiBncmFkaWVudFVuaXRzPSJ1c2VyU3BhY2VPblVzZSIvPjwvZGVmcz48cGF0\n",
    "aCBkPSJNNTQuOTE5IDBjLTQuNTg0LjAyMi04Ljk2MS40MTMtMTIuODEzIDEuMDk1QzMwLjc2IDMu\n",
    "MDk5IDI4LjcgNy4yOTUgMjguNyAxNS4wMzJ2MTAuMjE5aDI2LjgxM3YzLjQwNkgxOC42MzhjLTcu\n",
    "NzkzIDAtMTQuNjE2IDQuNjg0LTE2Ljc1IDEzLjU5NC0yLjQ2MiAxMC4yMTMtMi41NzEgMTYuNTg2\n",
    "IDAgMjcuMjUgMS45MDUgNy45MzggNi40NTcgMTMuNTk0IDE0LjI1IDEzLjU5NGg5LjIxOHYtMTIu\n",
    "MjVjMC04Ljg1IDcuNjU3LTE2LjY1NyAxNi43NS0xNi42NTdoMjYuNzgyYzcuNDU0IDAgMTMuNDA2\n",
    "LTYuMTM4IDEzLjQwNi0xMy42MjV2LTI1LjUzYzAtNy4yNjctNi4xMy0xMi43MjYtMTMuNDA2LTEz\n",
    "LjkzOEM2NC4yODIuMzI4IDU5LjUwMi0uMDIgNTQuOTE4IDBtLTE0LjUgOC4yMmMyLjc3IDAgNS4w\n",
    "MzEgMi4yOTggNS4wMzEgNS4xMjUgMCAyLjgxNi0yLjI2MiA1LjA5My01LjAzMSA1LjA5My0yLjc4\n",
    "IDAtNS4wMzEtMi4yNzctNS4wMzEtNS4wOTMgMC0yLjgyNyAyLjI1MS01LjEyNSA1LjAzLTUuMTI1\n",
    "IiBzdHlsZT0iZmlsbDp1cmwoI2QpO2ZpbGwtb3BhY2l0eToxIi8+PHBhdGggZD0iTTg1LjYzOCAy\n",
    "OC42NTd2MTEuOTA2YzAgOS4yMzEtNy44MjYgMTctMTYuNzUgMTdINDIuMTA2Yy03LjMzNiAwLTEz\n",
    "LjQwNiA2LjI3OS0xMy40MDYgMTMuNjI1Vjk2LjcyYzAgNy4yNjYgNi4zMTkgMTEuNTQgMTMuNDA2\n",
    "IDEzLjYyNSA4LjQ4OCAyLjQ5NSAxNi42MjcgMi45NDYgMjYuNzgyIDAgNi43NS0xLjk1NSAxMy40\n",
    "MDYtNS44ODggMTMuNDA2LTEzLjYyNVY4Ni41SDU1LjUxM3YtMy40MDVIOTUuN2M3Ljc5MyAwIDEw\n",
    "LjY5Ni01LjQzNiAxMy40MDYtMTMuNTk0IDIuOC04LjM5OSAyLjY4LTE2LjQ3NiAwLTI3LjI1LTEu\n",
    "OTI1LTcuNzU4LTUuNjA0LTEzLjU5NC0xMy40MDYtMTMuNTk0ek03MC41NzUgOTMuMzEzYzIuNzgg\n",
    "MCA1LjAzMSAyLjI3OCA1LjAzMSA1LjA5NCAwIDIuODI3LTIuMjUxIDUuMTI1LTUuMDMxIDUuMTI1\n",
    "LTIuNzcgMC01LjAzMS0yLjI5OC01LjAzMS01LjEyNSAwLTIuODE2IDIuMjYxLTUuMDk0IDUuMDMx\n",
    "LTUuMDk0IiBzdHlsZT0iZmlsbDp1cmwoI2UpO2ZpbGwtb3BhY2l0eToxIi8+PGVsbGlwc2UgY3g9\n",
    "IjU1LjgxNyIgY3k9IjEyNy43MDEiIHJ4PSIzNS45MzEiIHJ5PSI2Ljk2NyIgc3R5bGU9Im9wYWNp\n",
    "dHk6LjQ0MzgyO2ZpbGw6dXJsKCNmKTtmaWxsLW9wYWNpdHk6MTtmaWxsLXJ1bGU6bm9uemVybztz\n",
    "dHJva2U6bm9uZTtzdHJva2Utd2lkdGg6MTUuNDE3NDtzdHJva2UtbWl0ZXJsaW1pdDo0O3N0cm9r\n",
    "ZS1kYXNoYXJyYXk6bm9uZTtzdHJva2Utb3BhY2l0eToxIi8+PC9zdmc+\n",
    "\"\n",
    "     style=\"display:block;margin:auto;width:10%\" alt=\"Python Logo\"/>\n",
    "<br>\n",
    "\n",
    "<div style=\"text-align:center; font-size:200%;\">\n",
    " <b>Observer</b>\n",
    "</div>\n",
    "<br/>\n",
    "<div style=\"text-align:center;\">Dr. Matthias Hölzl</div>\n",
    "<br/>"
   ]
  },
  {
   "cell_type": "markdown",
   "id": "09ee2ed9fbca62fe",
   "metadata": {
    "lang": "de",
    "slideshow": {
     "slide_type": "subslide"
    },
    "tags": [
     "subslide"
    ]
   },
   "source": [
    "\n",
    "### Beispiel: Aktienkurse\n",
    "\n",
    "- Aktienkurse ändern sich ständig\n",
    "- Viele verschiedene Clients wollen über Änderungen informiert werden\n",
    "- Clients sollen unabhängig voneinander sein\n",
    "- Die Anwendung soll nicht über konkrete Clients Bescheid wissen"
   ]
  },
  {
   "cell_type": "code",
   "execution_count": null,
   "id": "d21ace15e73959cc",
   "metadata": {
    "slideshow": {
     "slide_type": "subslide"
    },
    "tags": [
     "keep",
     "subslide"
    ]
   },
   "outputs": [],
   "source": [
    "from abc import ABC, abstractmethod\n",
    "from dataclasses import dataclass, field\n",
    "from random import randint, normalvariate, sample\n",
    "import weakref"
   ]
  },
  {
   "cell_type": "code",
   "execution_count": null,
   "id": "749a0dbd9b21e7d2",
   "metadata": {
    "tags": [
     "keep"
    ]
   },
   "outputs": [],
   "source": [
    "@dataclass\n",
    "class Stock:\n",
    "    name: str\n",
    "    price: float"
   ]
  },
  {
   "cell_type": "code",
   "execution_count": null,
   "id": "4b1d109ade1327f6",
   "metadata": {
    "slideshow": {
     "slide_type": "subslide"
    },
    "tags": [
     "keep",
     "subslide"
    ]
   },
   "outputs": [],
   "source": [
    "@dataclass\n",
    "class StockMarket:\n",
    "    stocks: list[Stock] = field(default_factory=list)\n",
    "    price_dist_mean: float = 1.0\n",
    "    price_dist_stddev: float = 0.3\n",
    "\n",
    "    def add_stock(self, stock: Stock):\n",
    "        self.stocks.append(stock)\n",
    "        print(f\"Updated price for {stock.name} to {stock.price:.2f}\")\n",
    "\n",
    "    def update_prices(self):\n",
    "        stocks_to_update = self._select_stocks_to_update()\n",
    "        self._update_prices_for(stocks_to_update)\n",
    "        for stock in stocks_to_update:\n",
    "            print(f\"Updated price for {stock.name} to {stock.price:.2f}\")\n",
    "\n",
    "    def _select_stocks_to_update(self) -> list[Stock]:\n",
    "        num_stocks_to_update = randint(0, len(self.stocks) - 1)\n",
    "        return sample(self.stocks, num_stocks_to_update)\n",
    "\n",
    "    def _update_prices_for(self, stocks: list[Stock]):\n",
    "        for stock in stocks:\n",
    "            change_percent = normalvariate(self.price_dist_mean, self.price_dist_stddev)\n",
    "            stock.price *= change_percent"
   ]
  },
  {
   "cell_type": "code",
   "execution_count": null,
   "id": "e6a19ec155d1b760",
   "metadata": {
    "slideshow": {
     "slide_type": "subslide"
    },
    "tags": [
     "keep",
     "subslide"
    ]
   },
   "outputs": [],
   "source": [
    "market = StockMarket()"
   ]
  },
  {
   "cell_type": "code",
   "execution_count": null,
   "id": "faf7006d7a9e3c48",
   "metadata": {
    "tags": [
     "keep"
    ]
   },
   "outputs": [],
   "source": [
    "market.add_stock(Stock(\"Banana\", 100.0))\n",
    "market.add_stock(Stock(\"Billionz\", 200.0))\n",
    "market.add_stock(Stock(\"Macrosoft\", 300.0))\n",
    "market.add_stock(Stock(\"BCD\", 400.0))"
   ]
  },
  {
   "cell_type": "code",
   "execution_count": null,
   "id": "36133fd27028ba04",
   "metadata": {
    "slideshow": {
     "slide_type": "subslide"
    },
    "tags": [
     "keep",
     "subslide"
    ]
   },
   "outputs": [],
   "source": [
    "for i in range(10):\n",
    "    print(f\"============= Update {i + 1} =============\")\n",
    "    market.update_prices()"
   ]
  },
  {
   "cell_type": "markdown",
   "id": "2d5f19147820b3cf",
   "metadata": {
    "lang": "de",
    "slideshow": {
     "slide_type": "subslide"
    },
    "tags": [
     "subslide"
    ]
   },
   "source": [
    "\n",
    "### Konsequenzen\n",
    "\n",
    "- Die Lösung implementiert die Grundanforderungen\n",
    "- Änderung des Ausgabeformats nur durch Änderung des `StockMarket`\n",
    "- Keine einfache Möglichkeit, Clients hinzuzufügen oder zu entfernen"
   ]
  },
  {
   "cell_type": "markdown",
   "id": "7ac807392252f09b",
   "metadata": {
    "lang": "de",
    "slideshow": {
     "slide_type": "subslide"
    },
    "tags": [
     "subslide"
    ]
   },
   "source": [
    "\n",
    "### Probleme\n",
    "\n",
    "- Verletzung des Single Responsibility Principle/hohe Kohäsion\n",
    "- Verletzung des Open-Closed-Prinzips\n",
    "- Hohe Kopplung (an alle Clients)"
   ]
  },
  {
   "cell_type": "markdown",
   "id": "ec33dabadaabf13b",
   "metadata": {
    "lang": "de",
    "slideshow": {
     "slide_type": "slide"
    },
    "tags": [
     "slide"
    ]
   },
   "source": [
    "## Observer\n",
    "\n",
    "### Zweck\n",
    "\n",
    "- 1:n Beziehung zwischen Objekten\n",
    "- Automatische Benachrichtigung aller abhängigen Objekte bei Zustandsänderung\n",
    "\n",
    "### Motivation\n",
    "\n",
    "- Konsistenz zwischen zusammenhängenden Objekten erhalten\n",
    "- Dabei aber lose Kopplung erhalten\n",
    "- Ein *Subject* kann beliebig viele *Observers* haben\n",
    "- *Observer* werden automatisch über Änderungen am *Subject* benachrichtigt"
   ]
  },
  {
   "cell_type": "markdown",
   "id": "a8cffc7df7b9107a",
   "metadata": {
    "lang": "de",
    "slideshow": {
     "slide_type": "subslide"
    },
    "tags": [
     "subslide"
    ]
   },
   "source": [
    "\n",
    "### Klassendiagramm mit Observer\n",
    "\n",
    "<img src=\"img/stock_example.svg\"\n",
    "     style=\"display:block;margin:auto;width:90%\"/>"
   ]
  },
  {
   "cell_type": "code",
   "execution_count": null,
   "id": "a134ffcce6bcb9ca",
   "metadata": {
    "slideshow": {
     "slide_type": "subslide"
    },
    "tags": [
     "keep",
     "subslide"
    ]
   },
   "outputs": [],
   "source": [
    "class StockObserver(ABC):\n",
    "    @abstractmethod\n",
    "    def update(self, stocks: list[\"Stock\"]): ..."
   ]
  },
  {
   "cell_type": "code",
   "execution_count": null,
   "id": "d25a8f2138c9f583",
   "metadata": {
    "slideshow": {
     "slide_type": "subslide"
    },
    "tags": [
     "start",
     "subslide"
    ]
   },
   "outputs": [],
   "source": [
    "@dataclass\n",
    "class StockMarket:\n",
    "    stocks: list[Stock] = field(default_factory=list)\n",
    "    price_dist_mean: float = 1.0\n",
    "    price_dist_stddev: float = 0.3\n",
    "\n",
    "    def add_stock(self, stock: Stock):\n",
    "        self.stocks.append(stock)\n",
    "        print(f\"Updated price for {stock.name} to {stock.price:.2f}\")\n",
    "\n",
    "    def update_prices(self):\n",
    "        stocks_to_update = self._select_stocks_to_update()\n",
    "        self._update_prices_for(stocks_to_update)\n",
    "        for stock in stocks_to_update:\n",
    "            print(f\"Updated price for {stock.name} to {stock.price:.2f}\")\n",
    "\n",
    "    def _select_stocks_to_update(self) -> list[Stock]:\n",
    "        num_stocks_to_update = randint(0, len(self.stocks) - 1)\n",
    "        return sample(self.stocks, num_stocks_to_update)\n",
    "\n",
    "    def _update_prices_for(self, stocks: list[Stock]):\n",
    "        for stock in stocks:\n",
    "            change_percent = normalvariate(self.price_dist_mean, self.price_dist_stddev)\n",
    "            stock.price *= change_percent"
   ]
  },
  {
   "cell_type": "code",
   "execution_count": null,
   "id": "34b8a72dcc5bf397",
   "metadata": {
    "slideshow": {
     "slide_type": "subslide"
    },
    "tags": [
     "keep",
     "subslide"
    ]
   },
   "outputs": [],
   "source": [
    "class PrintingStockObserver(StockObserver):\n",
    "    def __init__(self, name: str):\n",
    "        super().__init__()\n",
    "        self.name = name\n",
    "\n",
    "    def update(self, stocks: list[Stock]):\n",
    "        print(f\"PrintingStockObserver {self.name} received update:\")\n",
    "        for stock in stocks:\n",
    "            print(f\"  {stock.name}: {stock.price:.2f}\")"
   ]
  },
  {
   "cell_type": "code",
   "execution_count": null,
   "id": "8abc94b68c61f334",
   "metadata": {
    "slideshow": {
     "slide_type": "subslide"
    },
    "tags": [
     "subslide",
     "keep"
    ]
   },
   "outputs": [],
   "source": [
    "class RisingStockObserver(StockObserver):\n",
    "    def __init__(self, name: str):\n",
    "        super().__init__()\n",
    "        self.name = name\n",
    "        self.old_prices = {}\n",
    "\n",
    "    def update(self, stocks: list[Stock]):\n",
    "        print(f\"RisingStockObserver {self.name} received update:\")\n",
    "        for stock in stocks:\n",
    "            old_price = self.old_prices.get(stock.name, float(\"-inf\"))\n",
    "            if stock.price > old_price:\n",
    "                print(f\"  {stock.name}: {old_price:.2f} -> {stock.price:.2f}\")\n",
    "            self.old_prices[stock.name] = stock.price"
   ]
  },
  {
   "cell_type": "code",
   "execution_count": null,
   "id": "489cf5952bdc48e1",
   "metadata": {
    "slideshow": {
     "slide_type": "subslide"
    },
    "tags": [
     "keep",
     "subslide"
    ]
   },
   "outputs": [],
   "source": [
    "market = StockMarket()"
   ]
  },
  {
   "cell_type": "code",
   "execution_count": null,
   "id": "3c29e3361682004e",
   "metadata": {
    "tags": [
     "keep"
    ]
   },
   "outputs": [],
   "source": [
    "printing_observer = PrintingStockObserver(\"PrintingObserver\")\n",
    "rising_observer = RisingStockObserver(\"RisingObserver\")"
   ]
  },
  {
   "cell_type": "code",
   "execution_count": null,
   "id": "02f22e7b120fe2dd",
   "metadata": {
    "tags": [
     "keep"
    ]
   },
   "outputs": [],
   "source": [
    "market.attach_observer(printing_observer)\n",
    "market.attach_observer(rising_observer)"
   ]
  },
  {
   "cell_type": "code",
   "execution_count": null,
   "id": "7010ff79a53836d8",
   "metadata": {
    "tags": [
     "keep"
    ]
   },
   "outputs": [],
   "source": [
    "market.add_stock(Stock(\"Banana\", 100.0))\n",
    "market.add_stock(Stock(\"Billionz\", 200.0))\n",
    "market.add_stock(Stock(\"Macrosoft\", 300.0))\n",
    "market.add_stock(Stock(\"BCD\", 400.0))"
   ]
  },
  {
   "cell_type": "code",
   "execution_count": null,
   "id": "a78a2a7c76a75409",
   "metadata": {
    "slideshow": {
     "slide_type": "subslide"
    },
    "tags": [
     "keep",
     "subslide"
    ]
   },
   "outputs": [],
   "source": [
    "for i in range(10):\n",
    "    print(f\"============= Update {i + 1} =============\")\n",
    "    market.update_prices()"
   ]
  },
  {
   "cell_type": "code",
   "execution_count": null,
   "id": "ae5b601f40e2afc2",
   "metadata": {
    "slideshow": {
     "slide_type": "subslide"
    },
    "tags": [
     "keep",
     "subslide"
    ]
   },
   "outputs": [],
   "source": [
    "del printing_observer"
   ]
  },
  {
   "cell_type": "code",
   "execution_count": null,
   "id": "46562e20031b3756",
   "metadata": {
    "lines_to_next_cell": 2,
    "tags": [
     "keep"
    ]
   },
   "outputs": [],
   "source": [
    "for i in range(10):\n",
    "    print(f\"============= Update {i + 1} =============\")\n",
    "    market.update_prices()"
   ]
  },
  {
   "cell_type": "markdown",
   "id": "d8ace39736c27e29",
   "metadata": {
    "lang": "de",
    "slideshow": {
     "slide_type": "slide"
    },
    "tags": [
     "slide"
    ]
   },
   "source": [
    "\n",
    "### Anwendbarkeit\n",
    "\n",
    "- Ein Objekt muss andere Objekte benachrichtigen, ohne Details zu kennen\n",
    "- Eine Änderung in einem Objekt führt zu Änderungen in (beliebig vielen)\n",
    "  anderen Objekten\n",
    "- Eine Abstraktion hat zwei Aspekte, wobei einer vom anderen abhängt"
   ]
  },
  {
   "cell_type": "markdown",
   "id": "62bec2ae8d8c1277",
   "metadata": {
    "lang": "de",
    "lines_to_next_cell": 2,
    "slideshow": {
     "slide_type": "slide"
    },
    "tags": [
     "slide"
    ]
   },
   "source": [
    "### Struktur: Pull Observer\n",
    "\n",
    "<img src=\"img/pat_observer_pull.svg\"\n",
    "     style=\"display:block;margin:auto;width:100%\"/>"
   ]
  },
  {
   "cell_type": "markdown",
   "id": "ccc3ddb3c50772fc",
   "metadata": {
    "lang": "de",
    "slideshow": {
     "slide_type": "slide"
    },
    "tags": [
     "slide"
    ]
   },
   "source": [
    "## Observer (Verhaltensmuster)\n",
    "\n",
    "### Teilnehmer\n",
    "\n",
    "- `Subject`\n",
    "  - kennt seine Observer. Jede Anzahl von Observern kann ein Subject\n",
    "    beobachten\n",
    "  - stellt eine Schnittstelle zum Hinzufügen und Entfernen von Observern\n",
    "    bereit\n",
    "- `Observer`\n",
    "  - definiert eine Aktualisierungs-Schnittstelle für Objekte, die über\n",
    "    Änderungen eines Subjects informiert werden sollen"
   ]
  },
  {
   "cell_type": "markdown",
   "id": "4b9b61060e7cc28d",
   "metadata": {
    "lang": "de",
    "slideshow": {
     "slide_type": "slide"
    },
    "tags": [
     "slide"
    ]
   },
   "source": [
    "- `ConcreteSubject`\n",
    "  - Speichert den Zustand, der für `ConcreteObserver`-Objekte von Interesse\n",
    "    ist\n",
    "  - Sendet eine Benachrichtigung an seine Observer, wenn sich sein Zustand\n",
    "    ändert\n",
    "- `ConcreteObserver`\n",
    "  - Kann eine Referenz auf ein `ConcreteSubject`-Objekt halten\n",
    "  - Speichert Zustand, der mit dem des Subjects konsistent bleiben soll\n",
    "  - Implementiert die `Observer`-Aktualisierungs-Schnittstelle, um seinen\n",
    "    Zustand mit dem des Subjects konsistent zu halten"
   ]
  },
  {
   "cell_type": "markdown",
   "id": "08fb2fc68c4416e2",
   "metadata": {
    "lang": "de",
    "lines_to_next_cell": 2,
    "slideshow": {
     "slide_type": "slide"
    },
    "tags": [
     "slide"
    ]
   },
   "source": [
    "### Interaktionen: Pull Observer\n",
    "\n",
    "<img src=\"img/pat_observer_pull_seq.svg\"\n",
    "     style=\"display:block;margin:auto;width:65%\"/>"
   ]
  },
  {
   "cell_type": "markdown",
   "id": "be025a9811a4cd82",
   "metadata": {
    "lang": "de",
    "lines_to_next_cell": 2,
    "slideshow": {
     "slide_type": "slide"
    },
    "tags": [
     "slide"
    ]
   },
   "source": [
    "### Zusammenarbeit\n",
    "\n",
    "- `ConcreteSubject` benachrichtigt seine Observer über Änderungen in seinem\n",
    "  Zustand\n",
    "- Nachdem ein `ConcreteObserver` über eine Änderung im `ConcreteSubject`\n",
    "  informiert wurde, holt es den neuen Zustand vom Subjekt\n",
    "- `ConcreteObserver` verwendet diese Informationen, um seinen Zustand mit dem\n",
    "  des Subjects in Einklang zu bringen"
   ]
  },
  {
   "cell_type": "markdown",
   "id": "d2c6ac2d1d738126",
   "metadata": {
    "lang": "de",
    "slideshow": {
     "slide_type": "subslide"
    },
    "tags": [
     "subslide"
    ]
   },
   "source": [
    "### Struktur: Push Observer\n",
    "\n",
    "<img src=\"img/pat_observer_push.svg\"\n",
    "     style=\"display:block;margin:auto;width:100%\"/>"
   ]
  },
  {
   "cell_type": "markdown",
   "id": "ab77916ff0839e0a",
   "metadata": {
    "lang": "de",
    "slideshow": {
     "slide_type": "subslide"
    },
    "tags": [
     "subslide"
    ]
   },
   "source": [
    "### Interaktion: Push Observer\n",
    "\n",
    "<img src=\"img/pat_observer_push_seq.svg\"\n",
    "     style=\"display:block;margin:auto;width:65%\"/>"
   ]
  },
  {
   "cell_type": "markdown",
   "id": "f822f4a7a35a7b37",
   "metadata": {
    "lang": "de",
    "slideshow": {
     "slide_type": "slide"
    },
    "tags": [
     "slide"
    ]
   },
   "source": [
    "### Konsequenzen\n",
    "\n",
    "- `Subject` und `Observer` können unabhängig voneinander\n",
    "   - variiert werden\n",
    "   - wiederverwendet werden\n",
    "- Hinzufügen neuer `Observer` ohne Änderungen am `Subject`\n",
    "- Abstrakte Kopplung zwischen `Subject` und `Observer`\n",
    "- Unterstützung für Broadcast-Kommunikation\n",
    "- Unerwartete Updates"
   ]
  },
  {
   "cell_type": "markdown",
   "id": "d9caf78f47e11d9e",
   "metadata": {
    "lang": "de",
    "lines_to_next_cell": 2,
    "slideshow": {
     "slide_type": "slide"
    },
    "tags": [
     "slide"
    ]
   },
   "source": [
    "### Praxisbeispiele\n",
    "\n",
    "- Event-Listener in Benutzeroberflächen\n",
    "\n",
    "### Verwandte Patterns\n",
    "\n",
    "- Mediator: Durch die Kapselung komplexer Update-Semantik fungiert der\n",
    "  `ChangeManager` als Mediator zwischen Subjects und Observers\n",
    "- Singleton: ..."
   ]
  },
  {
   "cell_type": "markdown",
   "id": "5e43526bff6224d1",
   "metadata": {
    "lang": "de",
    "lines_to_next_cell": 2,
    "slideshow": {
     "slide_type": "slide"
    },
    "tags": [
     "slide"
    ]
   },
   "source": [
    "## Mini-Workshop: Produktion von Werkstücken\n",
    "\n",
    "In einem Produktionssystem wollen Sie verschiedene andere Systeme\n",
    "benachrichtigen, wenn Sie ein Werkstück erzeugt haben. Dabei sollen diese\n",
    "Systeme vom konkreten Produzenten unabhängig sein und auch der Produzent\n",
    "keine (statische) Kenntnis über die benachrichtigten Systeme haben.\n",
    "\n",
    "Implementieren Sie ein derartiges System mit dem Observer-Muster.\n",
    "Implementieren Sie dazu einen konkreten Observer `PrintingObserver`, der den\n",
    "Zustand des beobachteten Objekts ausgibt.\n",
    "\n",
    "*Hinweis:* Sie können das System sowohl mit Pull- als auch mit Push-Observern\n",
    "implementieren. Es ist eine gute Übung, wenn Sie beide Varianten\n",
    "implementieren und vergleichen."
   ]
  },
  {
   "cell_type": "code",
   "execution_count": null,
   "id": "58eeb990a16dd49c",
   "metadata": {
    "slideshow": {
     "slide_type": "subslide"
    },
    "tags": [
     "subslide"
    ]
   },
   "outputs": [],
   "source": []
  },
  {
   "cell_type": "code",
   "execution_count": null,
   "id": "ca1ba25b9a4f8dba",
   "metadata": {},
   "outputs": [],
   "source": []
  },
  {
   "cell_type": "code",
   "execution_count": null,
   "id": "6b4e03423667dbb7",
   "metadata": {},
   "outputs": [],
   "source": []
  }
 ],
 "metadata": {
  "jupytext": {
   "cell_metadata_filter": "lang,tags,-all",
   "main_language": "python",
   "notebook_metadata_filter": "-all"
  },
  "kernelspec": {
   "display_name": "Python 3 (ipykernel)",
   "language": "python",
   "name": "python3"
  },
  "language_info": {
   "codemirror_mode": {
    "name": "ipython",
    "version": 3
   },
   "file_extension": ".py",
   "mimetype": "text/x-python",
   "name": "python",
   "nbconvert_exporter": "python",
   "pygments_lexer": "ipython3"
  }
 },
 "nbformat": 4,
 "nbformat_minor": 5
}
