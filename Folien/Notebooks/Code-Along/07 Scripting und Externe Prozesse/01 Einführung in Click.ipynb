{
 "cells": [
  {
   "cell_type": "markdown",
   "id": "0119980bf9c9e2f0",
   "metadata": {
    "lang": "de",
    "slideshow": {
     "slide_type": "slide"
    },
    "tags": [
     "slide"
    ]
   },
   "source": [
    "\n",
    "<img src=\"data:image/svg+xml;base64,PHN2ZyB4bWxucz0iaHR0cDovL3d3dy53My5vcmcvMjAwMC9zdmciIHhtbG5zOnhsaW5rPSJodHRw\n",
    "Oi8vd3d3LnczLm9yZy8xOTk5L3hsaW5rIiB3aWR0aD0iMTExLjE2MSIgaGVpZ2h0PSIxMzQuNjY4\n",
    "IiB2ZXJzaW9uPSIxLjAiPjxkZWZzPjxsaW5lYXJHcmFkaWVudCBpZD0iYyI+PHN0b3Agb2Zmc2V0\n",
    "PSIwIiBzdHlsZT0ic3RvcC1jb2xvcjojYjhiOGI4O3N0b3Atb3BhY2l0eTouNDk4MDM5MjIiLz48\n",
    "c3RvcCBvZmZzZXQ9IjEiIHN0eWxlPSJzdG9wLWNvbG9yOiM3ZjdmN2Y7c3RvcC1vcGFjaXR5OjAi\n",
    "Lz48L2xpbmVhckdyYWRpZW50PjxsaW5lYXJHcmFkaWVudCBpZD0iYSI+PHN0b3Agb2Zmc2V0PSIw\n",
    "IiBzdHlsZT0ic3RvcC1jb2xvcjojZmZkNDNiO3N0b3Atb3BhY2l0eToxIi8+PHN0b3Agb2Zmc2V0\n",
    "PSIxIiBzdHlsZT0ic3RvcC1jb2xvcjojZmZlODczO3N0b3Atb3BhY2l0eToxIi8+PC9saW5lYXJH\n",
    "cmFkaWVudD48bGluZWFyR3JhZGllbnQgaWQ9ImIiPjxzdG9wIG9mZnNldD0iMCIgc3R5bGU9InN0\n",
    "b3AtY29sb3I6IzVhOWZkNDtzdG9wLW9wYWNpdHk6MSIvPjxzdG9wIG9mZnNldD0iMSIgc3R5bGU9\n",
    "InN0b3AtY29sb3I6IzMwNjk5ODtzdG9wLW9wYWNpdHk6MSIvPjwvbGluZWFyR3JhZGllbnQ+PGxp\n",
    "bmVhckdyYWRpZW50IHhsaW5rOmhyZWY9IiNhIiBpZD0iZSIgeDE9IjE1MC45NjEiIHgyPSIxMTIu\n",
    "MDMxIiB5MT0iMTkyLjM1MiIgeTI9IjEzNy4yNzMiIGdyYWRpZW50VHJhbnNmb3JtPSJtYXRyaXgo\n",
    "LjU2MjU0IDAgMCAuNTY3OTcgLTE0Ljk5MSAtMTEuNzAyKSIgZ3JhZGllbnRVbml0cz0idXNlclNw\n",
    "YWNlT25Vc2UiLz48bGluZWFyR3JhZGllbnQgeGxpbms6aHJlZj0iI2IiIGlkPSJkIiB4MT0iMjYu\n",
    "NjQ5IiB4Mj0iMTM1LjY2NSIgeTE9IjIwLjYwNCIgeTI9IjExNC4zOTgiIGdyYWRpZW50VHJhbnNm\n",
    "b3JtPSJtYXRyaXgoLjU2MjU0IDAgMCAuNTY3OTcgLTE0Ljk5MSAtMTEuNzAyKSIgZ3JhZGllbnRV\n",
    "bml0cz0idXNlclNwYWNlT25Vc2UiLz48cmFkaWFsR3JhZGllbnQgeGxpbms6aHJlZj0iI2MiIGlk\n",
    "PSJmIiBjeD0iNjEuNTE5IiBjeT0iMTMyLjI4NiIgcj0iMjkuMDM3IiBmeD0iNjEuNTE5IiBmeT0i\n",
    "MTMyLjI4NiIgZ3JhZGllbnRUcmFuc2Zvcm09Im1hdHJpeCgwIC0uMjM5OTUgMS4wNTQ2NyAwIC04\n",
    "My43IDE0Mi40NjIpIiBncmFkaWVudFVuaXRzPSJ1c2VyU3BhY2VPblVzZSIvPjwvZGVmcz48cGF0\n",
    "aCBkPSJNNTQuOTE5IDBjLTQuNTg0LjAyMi04Ljk2MS40MTMtMTIuODEzIDEuMDk1QzMwLjc2IDMu\n",
    "MDk5IDI4LjcgNy4yOTUgMjguNyAxNS4wMzJ2MTAuMjE5aDI2LjgxM3YzLjQwNkgxOC42MzhjLTcu\n",
    "NzkzIDAtMTQuNjE2IDQuNjg0LTE2Ljc1IDEzLjU5NC0yLjQ2MiAxMC4yMTMtMi41NzEgMTYuNTg2\n",
    "IDAgMjcuMjUgMS45MDUgNy45MzggNi40NTcgMTMuNTk0IDE0LjI1IDEzLjU5NGg5LjIxOHYtMTIu\n",
    "MjVjMC04Ljg1IDcuNjU3LTE2LjY1NyAxNi43NS0xNi42NTdoMjYuNzgyYzcuNDU0IDAgMTMuNDA2\n",
    "LTYuMTM4IDEzLjQwNi0xMy42MjV2LTI1LjUzYzAtNy4yNjctNi4xMy0xMi43MjYtMTMuNDA2LTEz\n",
    "LjkzOEM2NC4yODIuMzI4IDU5LjUwMi0uMDIgNTQuOTE4IDBtLTE0LjUgOC4yMmMyLjc3IDAgNS4w\n",
    "MzEgMi4yOTggNS4wMzEgNS4xMjUgMCAyLjgxNi0yLjI2MiA1LjA5My01LjAzMSA1LjA5My0yLjc4\n",
    "IDAtNS4wMzEtMi4yNzctNS4wMzEtNS4wOTMgMC0yLjgyNyAyLjI1MS01LjEyNSA1LjAzLTUuMTI1\n",
    "IiBzdHlsZT0iZmlsbDp1cmwoI2QpO2ZpbGwtb3BhY2l0eToxIi8+PHBhdGggZD0iTTg1LjYzOCAy\n",
    "OC42NTd2MTEuOTA2YzAgOS4yMzEtNy44MjYgMTctMTYuNzUgMTdINDIuMTA2Yy03LjMzNiAwLTEz\n",
    "LjQwNiA2LjI3OS0xMy40MDYgMTMuNjI1Vjk2LjcyYzAgNy4yNjYgNi4zMTkgMTEuNTQgMTMuNDA2\n",
    "IDEzLjYyNSA4LjQ4OCAyLjQ5NSAxNi42MjcgMi45NDYgMjYuNzgyIDAgNi43NS0xLjk1NSAxMy40\n",
    "MDYtNS44ODggMTMuNDA2LTEzLjYyNVY4Ni41SDU1LjUxM3YtMy40MDVIOTUuN2M3Ljc5MyAwIDEw\n",
    "LjY5Ni01LjQzNiAxMy40MDYtMTMuNTk0IDIuOC04LjM5OSAyLjY4LTE2LjQ3NiAwLTI3LjI1LTEu\n",
    "OTI1LTcuNzU4LTUuNjA0LTEzLjU5NC0xMy40MDYtMTMuNTk0ek03MC41NzUgOTMuMzEzYzIuNzgg\n",
    "MCA1LjAzMSAyLjI3OCA1LjAzMSA1LjA5NCAwIDIuODI3LTIuMjUxIDUuMTI1LTUuMDMxIDUuMTI1\n",
    "LTIuNzcgMC01LjAzMS0yLjI5OC01LjAzMS01LjEyNSAwLTIuODE2IDIuMjYxLTUuMDk0IDUuMDMx\n",
    "LTUuMDk0IiBzdHlsZT0iZmlsbDp1cmwoI2UpO2ZpbGwtb3BhY2l0eToxIi8+PGVsbGlwc2UgY3g9\n",
    "IjU1LjgxNyIgY3k9IjEyNy43MDEiIHJ4PSIzNS45MzEiIHJ5PSI2Ljk2NyIgc3R5bGU9Im9wYWNp\n",
    "dHk6LjQ0MzgyO2ZpbGw6dXJsKCNmKTtmaWxsLW9wYWNpdHk6MTtmaWxsLXJ1bGU6bm9uemVybztz\n",
    "dHJva2U6bm9uZTtzdHJva2Utd2lkdGg6MTUuNDE3NDtzdHJva2UtbWl0ZXJsaW1pdDo0O3N0cm9r\n",
    "ZS1kYXNoYXJyYXk6bm9uZTtzdHJva2Utb3BhY2l0eToxIi8+PC9zdmc+\n",
    "\"\n",
    "     style=\"display:block;margin:auto;width:10%\" alt=\"Python Logo\"/>\n",
    "<br>\n",
    "\n",
    "<div style=\"text-align:center; font-size:200%;\">\n",
    " <b>Einführung in Click</b>\n",
    "</div>\n",
    "<br/>\n",
    "<div style=\"text-align:center;\">Dr. Matthias Hölzl</div>\n",
    "<br/>"
   ]
  },
  {
   "cell_type": "markdown",
   "id": "3f7cbdec91d52a88",
   "metadata": {
    "lang": "de",
    "slideshow": {
     "slide_type": "slide"
    },
    "tags": [
     "slide"
    ]
   },
   "source": [
    "\n",
    "## Was ist Click?\n",
    "\n",
    "- Command Line Interface Creation Kit\n",
    "- Python-Paket zur Erstellung schöner Kommandozeilenanwendungen\n",
    "- Kompositional und einfach zu verwenden"
   ]
  },
  {
   "cell_type": "markdown",
   "id": "4ef98edba533a746",
   "metadata": {
    "lang": "de",
    "slideshow": {
     "slide_type": "subslide"
    },
    "tags": [
     "subslide"
    ]
   },
   "source": [
    "\n",
    "## Click-Philosophie\n",
    "\n",
    "- Einfache und intuitive Definition von Kommandos, Argumenten und Optionen\n",
    "- Automatische Generierung von Hilfeseiten\n",
    "- Beliebig verschachtelte Befehlen\n",
    "- Unterstützt Lazy Loading von Unterbefehlen"
   ]
  },
  {
   "cell_type": "markdown",
   "id": "55fe25a29f6a89bd",
   "metadata": {
    "lang": "de",
    "slideshow": {
     "slide_type": "subslide"
    },
    "tags": [
     "subslide"
    ]
   },
   "source": [
    "\n",
    "## Hauptmerkmale von Click\n",
    "\n",
    "- Analyse von Befehlszeilenargumenten\n",
    "- Behandlung von Optionen und Argumenten\n",
    "- Aufforderung zur Eingabe\n",
    "- Farbige Terminalausgabe\n",
    "- Automatisches Datei-Handling\n",
    "- Fortschrittsbalken\n",
    "- Starten von Editoren"
   ]
  },
  {
   "cell_type": "markdown",
   "id": "8de14ba5d46152cb",
   "metadata": {
    "lang": "de",
    "slideshow": {
     "slide_type": "slide"
    },
    "tags": [
     "slide"
    ]
   },
   "source": [
    "\n",
    "## Installation von Click\n",
    "\n",
    "```bash\n",
    "pip install click\n",
    "```"
   ]
  },
  {
   "cell_type": "markdown",
   "id": "9156f99751c0c805",
   "metadata": {
    "lang": "de",
    "slideshow": {
     "slide_type": "slide"
    },
    "tags": [
     "slide"
    ]
   },
   "source": [
    "\n",
    "## Beispiel: Witz-Erzähler"
   ]
  },
  {
   "cell_type": "markdown",
   "id": "f53417449038290b",
   "metadata": {
    "lang": "de",
    "slideshow": {
     "slide_type": "slide"
    },
    "tags": [
     "slide"
    ]
   },
   "source": [
    "\n",
    "### Grundstruktur eines Befehls\n",
    "\n",
    "```python\n",
    "import click\n",
    "\n",
    "@click.command()\n",
    "def tell_joke():\n",
    "    \"\"\"Dieses Skript erzählt dem Benutzer einen zufälligen Witz.\"\"\"\n",
    "    # Rumpf der Funktion\n",
    "```\n",
    "\n",
    "- Definiert einen einzelnen Befehl\n",
    "- Docstring wird zur Befehlsbeschreibung"
   ]
  },
  {
   "cell_type": "markdown",
   "id": "a4132b8d80e5f224",
   "metadata": {
    "lang": "de",
    "slideshow": {
     "slide_type": "slide"
    },
    "tags": [
     "slide"
    ]
   },
   "source": [
    "\n",
    "### Optionen mit Prompt\n",
    "\n",
    "```python\n",
    "@click.option('--name', prompt='Dein Name', help='Die Person, die gegrüßt werden soll.')\n",
    "```\n",
    "\n",
    "- Definiert eine Befehlszeilenoption\n",
    "- Falls nicht angegeben, wird der Benutzer aufgefordert\n",
    "- Hilfetext für --help-Ausgabe"
   ]
  },
  {
   "cell_type": "markdown",
   "id": "7cac16819cb77e41",
   "metadata": {
    "lang": "de",
    "slideshow": {
     "slide_type": "slide"
    },
    "tags": [
     "slide"
    ]
   },
   "source": [
    "\n",
    "### Echo für Ausgabe\n",
    "\n",
    "```python\n",
    "click.echo(f\"Hallo, {name}! Hier ist ein Witz für dich:\")\n",
    "```\n",
    "\n",
    "- Plattformübergreifende Möglichkeit zum Drucken von Text\n",
    "- Behandelt Unicode und verschiedene Terminals"
   ]
  },
  {
   "cell_type": "markdown",
   "id": "bd0cd8c658341172",
   "metadata": {
    "lang": "de",
    "slideshow": {
     "slide_type": "subslide"
    },
    "tags": [
     "subslide"
    ]
   },
   "source": [
    "\n",
    "Code: `jokes.py`"
   ]
  },
  {
   "cell_type": "markdown",
   "id": "03f7649aaf7b6a7b",
   "metadata": {
    "lang": "de",
    "slideshow": {
     "slide_type": "slide"
    },
    "tags": [
     "slide"
    ]
   },
   "source": [
    "\n",
    "## Beispiel: Zeitreise-Agentur\n",
    "\n",
    "### Befehlsargumente mit Auswahlmöglichkeiten\n",
    "\n",
    "```python\n",
    "@click.argument('destination', type=click.Choice(['past', 'future']))\n",
    "```\n",
    "\n",
    "- Positionales Argument\n",
    "- Beschränkt auf bestimmte Auswahlmöglichkeiten"
   ]
  },
  {
   "cell_type": "markdown",
   "id": "e33b802d36029cc0",
   "metadata": {
    "lang": "de",
    "slideshow": {
     "slide_type": "subslide"
    },
    "tags": [
     "subslide"
    ]
   },
   "source": [
    "\n",
    "### Optionen mit Standardwerten\n",
    "\n",
    "```python\n",
    "@click.option('--years', default=1, show_default=True, help='Anzahl der Jahre, die gereist werden sollen')\n",
    "```\n",
    "\n",
    "- Option mit Standardwert\n",
    "- Zeigt Standardwert im Hilfetext"
   ]
  },
  {
   "cell_type": "markdown",
   "id": "4e9bfa5001e9f25b",
   "metadata": {
    "lang": "de",
    "slideshow": {
     "slide_type": "subslide"
    },
    "tags": [
     "subslide"
    ]
   },
   "source": [
    "\n",
    "### Boolean Flags\n",
    "\n",
    "```python\n",
    "@click.option('--return-trip/--one-way', default=True, help='Ob eine Rückreise gebucht werden soll')\n",
    "```\n",
    "\n",
    "- Boolesche Option mit Ein-/Aus-Flag"
   ]
  },
  {
   "cell_type": "markdown",
   "id": "170c6d830b6a93cc",
   "metadata": {
    "lang": "de",
    "slideshow": {
     "slide_type": "subslide"
    },
    "tags": [
     "subslide"
    ]
   },
   "source": [
    "\n",
    "### Verbose-Flag\n",
    "\n",
    "```python\n",
    "@click.option('--verbose', is_flag=True, help='Ausführliche Ausgabe')\n",
    "```\n",
    "\n",
    "- Einfaches boolesches Flag"
   ]
  },
  {
   "cell_type": "markdown",
   "id": "cb9904468d418a02",
   "metadata": {
    "lang": "de",
    "slideshow": {
     "slide_type": "subslide"
    },
    "tags": [
     "subslide"
    ]
   },
   "source": [
    "\n",
    "Code: `time_travel_agency.py`"
   ]
  },
  {
   "cell_type": "markdown",
   "id": "15d0be09c4399857",
   "metadata": {
    "lang": "de",
    "slideshow": {
     "slide_type": "slide"
    },
    "tags": [
     "slide"
    ]
   },
   "source": [
    "\n",
    "## Beispiel: Superhelden-Manager\n",
    "\n",
    "### Befehlsgruppen\n",
    "\n",
    "```python\n",
    "@click.group()\n",
    "def superhero():\n",
    "    \"\"\"Verwalte dein Superheldenteam!\"\"\"\n",
    "    pass\n",
    "```\n",
    "\n",
    "- Erstellt eine Gruppe von Befehlen\n",
    "- Ermöglicht Unterbefehle"
   ]
  },
  {
   "cell_type": "markdown",
   "id": "68dbce92c3c25e66",
   "metadata": {
    "lang": "de",
    "lines_to_next_cell": 2,
    "slideshow": {
     "slide_type": "subslide"
    },
    "tags": [
     "subslide"
    ]
   },
   "source": [
    "\n",
    "### Subbefehle\n",
    "\n",
    "```python\n",
    "@superhero.command()\n",
    "def add(name, power):\n",
    "    \"\"\"Füge deinem Team einen neuen Superhelden hinzu.\"\"\"\n",
    "    # Funktionsrumpf\n",
    "```\n",
    "\n",
    "- Definiert einen Subbefehl innerhalb einer Gruppe"
   ]
  },
  {
   "cell_type": "markdown",
   "id": "f2710e6fb11fc227",
   "metadata": {
    "lang": "de",
    "slideshow": {
     "slide_type": "subslide"
    },
    "tags": [
     "subslide"
    ]
   },
   "source": [
    "\n",
    "### Kontextobjekte\n",
    "\n",
    "```python\n",
    "@click.pass_context\n",
    "def superhero(ctx, file):\n",
    "    ctx.ensure_object(dict)\n",
    "    ctx.obj['team'] = team\n",
    "    ctx.obj['file'] = file\n",
    "```\n",
    "\n",
    "- Überträgt Daten zwischen Befehlen\n",
    "- Nützlich zum Verwalten von Zustand"
   ]
  },
  {
   "cell_type": "markdown",
   "id": "bc1df30af06c3b32",
   "metadata": {
    "lang": "de",
    "slideshow": {
     "slide_type": "subslide"
    },
    "tags": [
     "subslide"
    ]
   },
   "source": [
    "\n",
    "### Dateiverarbeitung mit pathlib\n",
    "\n",
    "```python\n",
    "@click.option('--file', type=click.Path(path_type=Path), default=DEFAULT_FILE)\n",
    "```\n",
    "\n",
    "- Konvertiert automatisch in pathlib.Path\n",
    "- Ermöglicht einfache Dateioperationen\n",
    "- Kann angeben, ob Dateien/Verzeichnisse erlaubt sind, etc."
   ]
  },
  {
   "cell_type": "markdown",
   "id": "0a989dfcb536f2e1",
   "metadata": {
    "lang": "de",
    "slideshow": {
     "slide_type": "subslide"
    },
    "tags": [
     "subslide"
    ]
   },
   "source": [
    "\n",
    "### Kombination mehrerer Features\n",
    "\n",
    "```python\n",
    "@click.group()\n",
    "@click.option('--file', type=click.Path(path_type=Path), default=DEFAULT_FILE)\n",
    "@click.pass_context\n",
    "def superhero(ctx, file):\n",
    "    # Funktionsrumpf\n",
    "```\n",
    "\n",
    "- Zeigt, wie verschiedene Features kombiniert werden können"
   ]
  },
  {
   "cell_type": "markdown",
   "id": "5175890568aa3eb4",
   "metadata": {
    "lang": "de",
    "slideshow": {
     "slide_type": "subslide"
    },
    "tags": [
     "subslide"
    ]
   },
   "source": [
    "\n",
    "Code: `superhero_manager.py`"
   ]
  },
  {
   "cell_type": "markdown",
   "id": "59110337de0771fa",
   "metadata": {
    "lang": "de",
    "slideshow": {
     "slide_type": "slide"
    },
    "tags": [
     "slide"
    ]
   },
   "source": [
    "\n",
    "## Beispiel: Task-Manager"
   ]
  },
  {
   "cell_type": "markdown",
   "id": "2b97c31d8ec39877",
   "metadata": {
    "lang": "de",
    "slideshow": {
     "slide_type": "subslide"
    },
    "tags": [
     "subslide"
    ]
   },
   "source": [
    "\n",
    "### Farbige Ausgabe\n",
    "\n",
    "```python\n",
    "click.secho(f\"Aufgabe hinzugefügt: {task}\", fg=\"green\")\n",
    "```\n",
    "\n",
    "- Verwendet `click.secho()` für farbige Ausgabe\n",
    "- `fg` Parameter bestimmt die Vordergrundfarbe\n",
    "- Macht die CLI benutzerfreundlicher und informativer"
   ]
  },
  {
   "cell_type": "markdown",
   "id": "b9c1fb88482514a2",
   "metadata": {
    "lang": "de",
    "slideshow": {
     "slide_type": "subslide"
    },
    "tags": [
     "subslide"
    ]
   },
   "source": [
    "\n",
    "### Fortschrittsbalken\n",
    "\n",
    "```python\n",
    "with click.progressbar(tasks, label=\"Verarbeite Aufgaben\") as bar:\n",
    "    for task in bar:\n",
    "        # Simuliere Arbeit\n",
    "        time.sleep(0.5)\n",
    "```\n",
    "\n",
    "- Zeigt Fortschritt für lang laufende Prozesse\n",
    "- Verbessert das Benutzererlebnis bei zeitaufwändigen Operationen"
   ]
  },
  {
   "cell_type": "markdown",
   "id": "ca27b118801584fa",
   "metadata": {
    "lang": "de",
    "slideshow": {
     "slide_type": "subslide"
    },
    "tags": [
     "subslide"
    ]
   },
   "source": [
    "\n",
    "### Starten von Editoren\n",
    "\n",
    "```python\n",
    "click.edit(filename=tmp_filename)\n",
    "```\n",
    "\n",
    "- Öffnet den Standard-Texteditor des Systems\n",
    "- Ermöglicht Bearbeitung von Text in der vertrauten Umgebung des Benutzers\n",
    "- Wartet, bis der Benutzer den Editor schließt\n",
    "- Funktioniert nicht mit allen Editoren und Systemkonfigurationen"
   ]
  },
  {
   "cell_type": "markdown",
   "id": "436d62b083cc2711",
   "metadata": {
    "lang": "de",
    "slideshow": {
     "slide_type": "slide"
    },
    "tags": [
     "slide"
    ]
   },
   "source": [
    "\n",
    "## Zusammenfassung\n",
    "\n",
    "- Click bietet eine leistungsstarke, intuitive Möglichkeit, CLIs zu erstellen\n",
    "- Bietet eine Vielzahl von Funktionen für komplexe Anwendungen\n",
    "- Fördert Best Practices im CLI-Design"
   ]
  }
 ],
 "metadata": {
  "jupytext": {
   "cell_metadata_filter": "tags,lang,-all",
   "main_language": "python",
   "notebook_metadata_filter": "-all"
  },
  "kernelspec": {
   "display_name": "Python 3 (ipykernel)",
   "language": "python",
   "name": "python3"
  },
  "language_info": {
   "codemirror_mode": {
    "name": "ipython",
    "version": 3
   },
   "file_extension": ".py",
   "mimetype": "text/x-python",
   "name": "python",
   "nbconvert_exporter": "python",
   "pygments_lexer": "ipython3"
  }
 },
 "nbformat": 4,
 "nbformat_minor": 5
}
